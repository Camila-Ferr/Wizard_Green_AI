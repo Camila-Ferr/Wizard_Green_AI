{
 "cells": [
  {
   "cell_type": "code",
   "execution_count": 1,
   "id": "d719672b-f334-4890-8091-d343ce5b2f9a",
   "metadata": {
    "scrolled": true
   },
   "outputs": [],
   "source": [
    "import warnings\n",
    "warnings.filterwarnings(\"ignore\")\n",
    "warnings.simplefilter(\"ignore\")"
   ]
  },
  {
   "cell_type": "code",
   "execution_count": 2,
   "id": "cc1069d0-b9f9-4863-97a4-8492204eeb94",
   "metadata": {},
   "outputs": [
    {
     "name": "stdout",
     "output_type": "stream",
     "text": [
      "Defaulting to user installation because normal site-packages is not writeable\n",
      "Requirement already satisfied: ucimlrepo in /home/camilaferreira/.local/lib/python3.10/site-packages (0.0.7)\n",
      "Requirement already satisfied: pandas>=1.0.0 in /home/camilaferreira/.local/lib/python3.10/site-packages (from ucimlrepo) (2.2.3)\n",
      "Requirement already satisfied: certifi>=2020.12.5 in /home/camilaferreira/.local/lib/python3.10/site-packages (from ucimlrepo) (2025.4.26)\n",
      "Requirement already satisfied: python-dateutil>=2.8.2 in /home/camilaferreira/.local/lib/python3.10/site-packages (from pandas>=1.0.0->ucimlrepo) (2.9.0.post0)\n",
      "Requirement already satisfied: pytz>=2020.1 in /usr/lib/python3/dist-packages (from pandas>=1.0.0->ucimlrepo) (2022.1)\n",
      "Requirement already satisfied: tzdata>=2022.7 in /home/camilaferreira/.local/lib/python3.10/site-packages (from pandas>=1.0.0->ucimlrepo) (2025.2)\n",
      "Requirement already satisfied: numpy>=1.22.4 in /home/camilaferreira/.local/lib/python3.10/site-packages (from pandas>=1.0.0->ucimlrepo) (2.2.5)\n",
      "Requirement already satisfied: six>=1.5 in /usr/lib/python3/dist-packages (from python-dateutil>=2.8.2->pandas>=1.0.0->ucimlrepo) (1.16.0)\n"
     ]
    }
   ],
   "source": [
    "!pip install ucimlrepo\n",
    "\n",
    "\n",
    "from ucimlrepo import fetch_ucirepo \n",
    "from sklearn.model_selection import train_test_split\n",
    "import sys\n",
    "import os\n",
    "import pandas as pd\n",
    "import numpy as np\n",
    "\n"
   ]
  },
  {
   "cell_type": "code",
   "execution_count": 4,
   "id": "f6f6957d-cc6c-4d8c-b67d-b206c0b57fce",
   "metadata": {},
   "outputs": [],
   "source": [
    "# Caminho absoluto para a pasta src\n",
    "src_path = os.path.abspath(os.path.join(os.getcwd(), '..', 'src'))\n",
    "src_path_2 = os.path.abspath(os.path.join(os.getcwd(), '..', 'src/modelos'))\n",
    "sys.path.append(src_path)\n",
    "sys.path.append(src_path_2)\n",
    "\n",
    "from model_wizard import buscar_melhor_wisard\n",
    "from model_mlp import busca_melhores_mlp\n",
    "from tratamento_dados import preprocess_data,preprocess_data_standart_scale\n",
    "from metricas import plot_confusion_matrix, classification_metrics\n",
    "from smote import SmoteTransformer"
   ]
  },
  {
   "cell_type": "markdown",
   "id": "466df281-a20a-4d3b-9f91-07188ceefb52",
   "metadata": {},
   "source": [
    "## Segundo Dataset"
   ]
  },
  {
   "cell_type": "code",
   "execution_count": 5,
   "id": "770ab8be-2d1b-4449-9f65-cc8901b8a05f",
   "metadata": {},
   "outputs": [
    {
     "name": "stdout",
     "output_type": "stream",
     "text": [
      "{'uci_id': 30, 'name': 'Contraceptive Method Choice', 'repository_url': 'https://archive.ics.uci.edu/dataset/30/contraceptive+method+choice', 'data_url': 'https://archive.ics.uci.edu/static/public/30/data.csv', 'abstract': 'Dataset is a subset of the 1987 National Indonesia Contraceptive Prevalence Survey.', 'area': 'Health and Medicine', 'tasks': ['Classification'], 'characteristics': ['Multivariate'], 'num_instances': 1473, 'num_features': 9, 'feature_types': ['Categorical', 'Integer'], 'demographics': ['Age', 'Education Level', 'Other', 'Occupation'], 'target_col': ['contraceptive_method'], 'index_col': None, 'has_missing_values': 'no', 'missing_values_symbol': None, 'year_of_dataset_creation': 1999, 'last_updated': 'Fri Feb 16 2024', 'dataset_doi': '10.24432/C59W2D', 'creators': ['Tjen-Sien Lim'], 'intro_paper': None, 'additional_info': {'summary': 'This dataset is a subset of the 1987 National Indonesia Contraceptive Prevalence Survey. The samples are married women who were either not pregnant or do not know if they were at the time of interview. The problem is to predict the current contraceptive method choice (no use, long-term methods, or short-term methods) of a woman based on her demographic and socio-economic characteristics.', 'purpose': None, 'funded_by': None, 'instances_represent': None, 'recommended_data_splits': None, 'sensitive_data': None, 'preprocessing_description': None, 'variable_info': \"   1. Wife's age                     (numerical)\\r\\n   2. Wife's education               (categorical)      1=low, 2, 3, 4=high\\r\\n   3. Husband's education            (categorical)      1=low, 2, 3, 4=high\\r\\n   4. Number of children ever born   (numerical)\\r\\n   5. Wife's religion                (binary)           0=Non-Islam, 1=Islam\\r\\n   6. Wife's now working?            (binary)           0=Yes, 1=No\\r\\n   7. Husband's occupation           (categorical)      1, 2, 3, 4\\r\\n   8. Standard-of-living index       (categorical)      1=low, 2, 3, 4=high\\r\\n   9. Media exposure                 (binary)           0=Good, 1=Not good\\r\\n   10. Contraceptive method used     (class attribute)  1=No-use, 2=Long-term, 3=Short-term\", 'citation': None}}\n",
      "                       name     role         type      demographic  \\\n",
      "0                  wife_age  Feature      Integer              Age   \n",
      "1                  wife_edu  Feature  Categorical  Education Level   \n",
      "2               husband_edu  Feature  Categorical  Education Level   \n",
      "3              num_children  Feature      Integer            Other   \n",
      "4             wife_religion  Feature       Binary            Other   \n",
      "5              wife_working  Feature       Binary       Occupation   \n",
      "6        husband_occupation  Feature  Categorical       Occupation   \n",
      "7  standard_of_living_index  Feature  Categorical             None   \n",
      "8            media_exposure  Feature       Binary             None   \n",
      "9      contraceptive_method   Target  Categorical             None   \n",
      "\n",
      "  description units missing_values  \n",
      "0        None  None             no  \n",
      "1        None  None             no  \n",
      "2        None  None             no  \n",
      "3        None  None             no  \n",
      "4        None  None             no  \n",
      "5        None  None             no  \n",
      "6        None  None             no  \n",
      "7        None  None             no  \n",
      "8        None  None             no  \n",
      "9        None  None             no  \n",
      "Targets:\n",
      "      contraceptive_method\n",
      "0                        1\n",
      "1                        1\n",
      "2                        1\n",
      "3                        1\n",
      "4                        1\n",
      "...                    ...\n",
      "1468                     3\n",
      "1469                     3\n",
      "1470                     3\n",
      "1471                     3\n",
      "1472                     3\n",
      "\n",
      "[1473 rows x 1 columns]\n"
     ]
    }
   ],
   "source": [
    "# fetch dataset \n",
    "contraceptive_method_choice = fetch_ucirepo(id=30) \n",
    "  \n",
    "# data (as pandas dataframes) \n",
    "X = contraceptive_method_choice.data.features \n",
    "y = contraceptive_method_choice.data.targets \n",
    "  \n",
    "# metadata \n",
    "print(contraceptive_method_choice.metadata) \n",
    "  \n",
    "# variable information \n",
    "print(contraceptive_method_choice.variables) \n",
    "\n",
    "print (\"Targets:\")\n",
    "print(y)"
   ]
  },
  {
   "cell_type": "markdown",
   "id": "84438c5e-0a2e-4b53-ac45-9a303b356e23",
   "metadata": {},
   "source": [
    "### Visualização de datasets"
   ]
  },
  {
   "cell_type": "code",
   "execution_count": 6,
   "id": "5909e1d1-22cb-46a0-bfbb-def786ab2d87",
   "metadata": {},
   "outputs": [
    {
     "name": "stdout",
     "output_type": "stream",
     "text": [
      "Features:\n",
      "   wife_age  wife_edu  husband_edu  num_children  wife_religion  wife_working  \\\n",
      "0        24         2            3             3              1             1   \n",
      "1        45         1            3            10              1             1   \n",
      "2        43         2            3             7              1             1   \n",
      "3        42         3            2             9              1             1   \n",
      "4        36         3            3             8              1             1   \n",
      "\n",
      "   husband_occupation  standard_of_living_index  media_exposure  \n",
      "0                   2                         3               0  \n",
      "1                   3                         4               0  \n",
      "2                   3                         4               0  \n",
      "3                   3                         3               0  \n",
      "4                   3                         2               0  \n",
      "\n",
      "Targets:\n",
      "      contraceptive_method\n",
      "0                        1\n",
      "1                        1\n",
      "2                        1\n",
      "3                        1\n",
      "4                        1\n",
      "...                    ...\n",
      "1468                     3\n",
      "1469                     3\n",
      "1470                     3\n",
      "1471                     3\n",
      "1472                     3\n",
      "\n",
      "[1473 rows x 1 columns]\n",
      "\n",
      "Colunas categóricas: []\n",
      "Colunas numéricas: ['wife_age', 'wife_edu', 'husband_edu', 'num_children', 'wife_religion', 'wife_working', 'husband_occupation', 'standard_of_living_index', 'media_exposure']\n"
     ]
    }
   ],
   "source": [
    "print(\"Features:\")\n",
    "print(X.head())\n",
    "print(\"\\nTargets:\")\n",
    "print(y)\n",
    "\n",
    "# Identificar colunas categóricas e numéricas\n",
    "categorical_cols = X.select_dtypes(include=['object']).columns.tolist()\n",
    "numeric_cols = X.select_dtypes(include=['number']).columns.tolist()\n",
    "\n",
    "print(\"\\nColunas categóricas:\", categorical_cols)\n",
    "print(\"Colunas numéricas:\", numeric_cols)"
   ]
  },
  {
   "cell_type": "markdown",
   "id": "265d129f-9e1b-4ba0-98af-6f5132ee4fc1",
   "metadata": {},
   "source": [
    "### Tratamento de Dados"
   ]
  },
  {
   "cell_type": "code",
   "execution_count": 7,
   "id": "cb61b86a-e910-4143-904e-16a0bf0026a7",
   "metadata": {},
   "outputs": [
    {
     "name": "stdout",
     "output_type": "stream",
     "text": [
      "\n",
      "Tamanho do conjunto após SMOTE: (1887, 9)\n",
      "Tamanho dos rótulos  após SMOTE: (1887, 1)\n"
     ]
    }
   ],
   "source": [
    "# Inicializa o SMOTE transformer\n",
    "smote_transformer = SmoteTransformer(random_state=42)\n",
    "\n",
    "# Aplica SMOTE\n",
    "X, y = smote_transformer.fit_transform(X, y)\n",
    "\n",
    "# Mostra as dimensões após SMOTE\n",
    "print(\"\\nTamanho do conjunto após SMOTE:\", X.shape)\n",
    "print(\"Tamanho dos rótulos  após SMOTE:\", y.shape)"
   ]
  },
  {
   "cell_type": "code",
   "execution_count": 8,
   "id": "aa570f1e-cfa1-4047-afc4-b989ea0ebdca",
   "metadata": {},
   "outputs": [
    {
     "name": "stdout",
     "output_type": "stream",
     "text": [
      "Tamanho do conjunto de treino: (1320, 72)\n",
      "Tamanho do conjunto de teste: (567, 72)\n",
      "Tamanho dos rótulos de treino: (1320,)\n",
      "Tamanho dos rótulos de teste: (567,)\n",
      "\n",
      "Exemplo de X_train (primeiras 5 linhas):\n",
      "[[1 1 1 1 1 1 0 0 1 1 1 1 1 1 1 0 1 1 1 1 1 1 1 0 1 1 0 0 0 0 0 0 0 0 0 0\n",
      "  0 0 0 0 1 1 1 1 1 1 1 0 0 0 0 0 0 0 0 0 1 1 1 1 1 1 1 0 0 0 0 0 0 0 0 0]\n",
      " [1 1 1 0 0 0 0 0 1 1 1 1 1 0 0 0 1 1 1 1 1 1 1 0 1 0 0 0 0 0 0 0 1 1 1 1\n",
      "  1 1 1 0 1 1 1 1 1 1 1 0 0 0 0 0 0 0 0 0 1 1 1 1 1 1 1 0 0 0 0 0 0 0 0 0]\n",
      " [1 1 1 0 0 0 0 0 1 1 1 1 1 0 0 0 1 1 1 1 1 0 0 0 1 0 0 0 0 0 0 0 1 1 1 1\n",
      "  1 1 1 0 0 0 0 0 0 0 0 0 1 1 1 1 1 0 0 0 1 1 1 1 1 0 0 0 0 0 0 0 0 0 0 0]\n",
      " [1 1 1 1 1 1 1 0 1 1 0 0 0 0 0 0 0 0 0 0 0 0 0 0 1 0 0 0 0 0 0 0 1 1 1 1\n",
      "  1 1 1 0 0 0 0 0 0 0 0 0 1 1 1 1 1 1 1 0 1 1 1 1 1 0 0 0 0 0 0 0 0 0 0 0]\n",
      " [1 0 0 0 0 0 0 0 0 0 0 0 0 0 0 0 1 1 1 1 1 0 0 0 0 0 0 0 0 0 0 0 1 1 1 1\n",
      "  1 1 1 0 1 1 1 1 1 1 1 0 1 1 1 1 1 0 0 0 1 1 1 1 1 0 0 0 1 1 1 1 1 1 1 0]]\n",
      "\n",
      "Exemplo de y_train (primeiros 5 rótulos):\n",
      "[2 2 1 0 2]\n",
      "\n",
      "Exemplo de X_test (primeiras 5 linhas):\n",
      "[[1 1 1 1 1 1 0 0 1 1 1 1 1 1 1 0 1 1 1 1 1 1 1 0 0 0 0 0 0 0 0 0 1 1 1 1\n",
      "  1 1 1 0 0 0 0 0 0 0 0 0 0 0 0 0 0 0 0 0 1 1 1 1 1 1 1 0 0 0 0 0 0 0 0 0]\n",
      " [1 1 1 1 1 1 1 0 1 1 1 1 1 1 1 0 1 1 1 1 1 0 0 0 1 1 1 1 1 1 0 0 1 1 1 1\n",
      "  1 1 1 0 1 1 1 1 1 1 1 0 0 0 0 0 0 0 0 0 1 1 1 1 1 1 1 0 0 0 0 0 0 0 0 0]\n",
      " [1 0 0 0 0 0 0 0 1 1 1 1 1 1 1 0 1 1 1 1 1 1 1 0 0 0 0 0 0 0 0 0 1 1 1 1\n",
      "  1 1 1 0 1 1 1 1 1 1 1 0 0 0 0 0 0 0 0 0 0 0 0 0 0 0 0 0 0 0 0 0 0 0 0 0]\n",
      " [1 1 1 1 0 0 0 0 1 1 1 1 1 0 0 0 1 1 1 1 1 1 1 0 1 1 1 0 0 0 0 0 1 1 1 1\n",
      "  1 1 1 0 0 0 0 0 0 0 0 0 1 1 0 0 0 0 0 0 1 1 0 0 0 0 0 0 0 0 0 0 0 0 0 0]\n",
      " [1 1 1 1 0 0 0 0 1 1 0 0 0 0 0 0 1 1 1 1 1 1 1 0 1 1 1 1 0 0 0 0 1 1 1 1\n",
      "  1 1 1 0 1 1 1 1 1 1 1 0 0 0 0 0 0 0 0 0 1 1 1 1 1 1 1 0 0 0 0 0 0 0 0 0]]\n",
      "\n",
      "Exemplo de y_test (primeiros 5 rótulos):\n",
      "[0 2 0 0 2]\n"
     ]
    }
   ],
   "source": [
    "# Pré-processamento\n",
    "X_processed, y_encoded, le = preprocess_data(X, y, categorical_cols, numeric_cols)\n",
    "\n",
    "# Dividir em treino e teste\n",
    "X_train, X_test, y_train, y_test = train_test_split(\n",
    "    X_processed, y_encoded, test_size=0.3, random_state=42, stratify=y_encoded\n",
    ")\n",
    "\n",
    "# Exibe dimensões\n",
    "print(\"Tamanho do conjunto de treino:\", X_train.shape)\n",
    "print(\"Tamanho do conjunto de teste:\", X_test.shape)\n",
    "print(\"Tamanho dos rótulos de treino:\", y_train.shape)\n",
    "print(\"Tamanho dos rótulos de teste:\", y_test.shape)\n",
    "\n",
    "print(\"\\nExemplo de X_train (primeiras 5 linhas):\")\n",
    "print(X_train[:5])\n",
    "\n",
    "print(\"\\nExemplo de y_train (primeiros 5 rótulos):\")\n",
    "print(y_train[:5])\n",
    "\n",
    "print(\"\\nExemplo de X_test (primeiras 5 linhas):\")\n",
    "print(X_test[:5])\n",
    "\n",
    "print(\"\\nExemplo de y_test (primeiros 5 rótulos):\")\n",
    "print(y_test[:5])"
   ]
  },
  {
   "cell_type": "markdown",
   "id": "95965378-703b-4a5e-8255-8504d078a0ed",
   "metadata": {},
   "source": [
    "## Wizard"
   ]
  },
  {
   "cell_type": "markdown",
   "id": "a0630283-88e2-44cb-b40e-8d89d6069977",
   "metadata": {},
   "source": [
    "#### Métricas"
   ]
  },
  {
   "cell_type": "code",
   "execution_count": 9,
   "id": "9b87da2c-b6a5-414a-a5aa-34e63787f467",
   "metadata": {},
   "outputs": [
    {
     "name": "stdout",
     "output_type": "stream",
     "text": [
      "Melhores parâmetros encontrados: {'wisard__tuple_size': 9, 'wisard__bleaching': False}\n",
      "Acurácia média na CV: 0.3477272727272727\n",
      "              precision    recall  f1-score   support\n",
      "\n",
      "           1       0.36      1.00      0.53       440\n",
      "           2       0.77      0.12      0.21       440\n",
      "           3       1.00      0.06      0.12       440\n",
      "\n",
      "    accuracy                           0.39      1320\n",
      "   macro avg       0.71      0.39      0.29      1320\n",
      "weighted avg       0.71      0.39      0.29      1320\n",
      "\n"
     ]
    }
   ],
   "source": [
    "\n",
    "best_model, best_params, best_score, random_search = buscar_melhor_wisard(X_train, y_train)\n",
    "\n",
    "print(\"Melhores parâmetros encontrados:\", best_params)\n",
    "print(\"Acurácia média na CV:\", best_score)\n",
    "\n",
    "# Faz predição codificada\n",
    "y_train_pred_encoded = random_search.predict(X_train)\n",
    "\n",
    "# Imprime relatório de classificação com rótulos originais\n",
    "classification_metrics(y_train, y_train_pred_encoded, le)"
   ]
  },
  {
   "cell_type": "markdown",
   "id": "b81d3145-a0cc-4229-92fe-77ca3ad7dbc9",
   "metadata": {},
   "source": [
    "### Predição"
   ]
  },
  {
   "cell_type": "code",
   "execution_count": 10,
   "id": "ba9462bc-7bb7-4f36-9f86-db8fdd4621fc",
   "metadata": {},
   "outputs": [
    {
     "data": {
      "image/png": "[encoded data removed]",
      "text/plain": [
       "<Figure size 640x480 with 2 Axes>"
      ]
     },
     "metadata": {},
     "output_type": "display_data"
    },
    {
     "name": "stdout",
     "output_type": "stream",
     "text": [
      "              precision    recall  f1-score   support\n",
      "\n",
      "           1       0.34      0.95      0.50       189\n",
      "           2       0.57      0.09      0.16       189\n",
      "           3       0.40      0.02      0.04       189\n",
      "\n",
      "    accuracy                           0.35       567\n",
      "   macro avg       0.44      0.35      0.23       567\n",
      "weighted avg       0.44      0.35      0.23       567\n",
      "\n"
     ]
    }
   ],
   "source": [
    "# Predição no teste\n",
    "y_test_pred = random_search.predict(X_test)\n",
    "\n",
    "plot_confusion_matrix(y_test, y_test_pred, le, maior = False, title=\"Matriz de Confusão - Teste\")\n",
    "classification_metrics(y_test, y_test_pred, le)"
   ]
  },
  {
   "cell_type": "markdown",
   "id": "e4877fa3-3465-4313-b2b2-1a394c95e764",
   "metadata": {},
   "source": [
    "## MLP"
   ]
  },
  {
   "cell_type": "code",
   "execution_count": 12,
   "id": "62825296-9530-4386-8d9c-ce1289163eb3",
   "metadata": {},
   "outputs": [
    {
     "name": "stdout",
     "output_type": "stream",
     "text": [
      "\n",
      "Tamanho do conjunto após SMOTE: (1887, 9)\n",
      "Tamanho dos rótulos  após SMOTE: (1887, 1)\n"
     ]
    }
   ],
   "source": [
    "# Inicializa o SMOTE transformer\n",
    "smote_transformer = SmoteTransformer(random_state=42)\n",
    "\n",
    "# Aplica SMOTE\n",
    "X, y = smote_transformer.fit_transform(X, y)\n",
    "\n",
    "# Mostra as dimensões após SMOTE\n",
    "print(\"\\nTamanho do conjunto após SMOTE:\", X.shape)\n",
    "print(\"Tamanho dos rótulos  após SMOTE:\", y.shape)"
   ]
  },
  {
   "cell_type": "markdown",
   "id": "4a7e46b0-c728-4199-9d76-3d5eb12881b4",
   "metadata": {},
   "source": [
    "### Tratamento de Dados"
   ]
  },
  {
   "cell_type": "code",
   "execution_count": 13,
   "id": "3f3dc33f-cfe9-41a7-a73d-a9ca8084a25e",
   "metadata": {},
   "outputs": [
    {
     "name": "stdout",
     "output_type": "stream",
     "text": [
      "Tamanho do conjunto de treino: (1320, 9)\n",
      "Tamanho do conjunto de teste: (567, 9)\n",
      "Tamanho dos rótulos de treino: (1320,)\n",
      "Tamanho dos rótulos de teste: (567,)\n",
      "\n",
      "Exemplo de X_train (primeiras 5 linhas):\n",
      "      wife_age  wife_edu  husband_edu  num_children  wife_religion  \\\n",
      "1330  1.286258  0.989210     0.694827      0.756634      -2.140757   \n",
      "991  -0.574117 -0.014899     0.694827     -0.124977       0.467124   \n",
      "484  -0.202042 -0.014899    -0.561053     -0.565782       0.467124   \n",
      "183   1.906383 -1.019009    -3.072813     -0.124977       0.467124   \n",
      "881  -1.442291 -2.023119    -0.561053     -1.006587       0.467124   \n",
      "\n",
      "      wife_working  husband_occupation  standard_of_living_index  \\\n",
      "1330      0.605311           -1.234340                  0.897318   \n",
      "991       0.605311           -1.234340                  0.897318   \n",
      "484      -1.652044            1.075229                 -0.165607   \n",
      "183      -1.652044            2.230013                 -0.165607   \n",
      "881       0.605311            1.075229                 -0.165607   \n",
      "\n",
      "      media_exposure  \n",
      "1330       -0.248801  \n",
      "991        -0.248801  \n",
      "484        -0.248801  \n",
      "183        -0.248801  \n",
      "881         4.019272  \n",
      "\n",
      "Exemplo de y_train (primeiros 5 rótulos):\n",
      "[2 2 1 0 2]\n",
      "\n",
      "Exemplo de X_test (primeiras 5 linhas):\n",
      "      wife_age  wife_edu  husband_edu  num_children  wife_religion  \\\n",
      "1145  1.534308  0.989210     0.694827     -1.006587       0.467124   \n",
      "675   2.030408  0.989210    -0.561053      4.283077       0.467124   \n",
      "106  -1.318266  0.989210     0.694827     -1.447393       0.467124   \n",
      "1030  0.294058 -0.014899     0.694827      1.197439       0.467124   \n",
      "959   0.418083 -1.019009     0.694827      2.079050       0.467124   \n",
      "\n",
      "      wife_working  husband_occupation  standard_of_living_index  \\\n",
      "1145     -1.652044           -1.234340                  0.897318   \n",
      "675       0.605311           -1.234340                  0.897318   \n",
      "106       0.605311           -1.234340                 -2.291456   \n",
      "1030     -1.652044           -0.079556                 -1.228531   \n",
      "959       0.605311           -1.234340                  0.897318   \n",
      "\n",
      "      media_exposure  \n",
      "1145       -0.248801  \n",
      "675        -0.248801  \n",
      "106        -0.248801  \n",
      "1030       -0.248801  \n",
      "959        -0.248801  \n",
      "\n",
      "Exemplo de y_test (primeiros 5 rótulos):\n",
      "[0 2 0 0 2]\n"
     ]
    }
   ],
   "source": [
    "X_processed, y_encoded, le = preprocess_data_standart_scale(X, y, categorical_cols, numeric_cols)\n",
    "# Dividir em treino e teste\n",
    "X_train, X_test, y_train, y_test = train_test_split(\n",
    "    X_processed, y_encoded, test_size=0.3, random_state=42, stratify=y_encoded\n",
    ")\n",
    "# Exibe as dimensões dos conjuntos de treino e teste\n",
    "print(\"Tamanho do conjunto de treino:\", X_train.shape)\n",
    "print(\"Tamanho do conjunto de teste:\", X_test.shape)\n",
    "print(\"Tamanho dos rótulos de treino:\", y_train.shape)\n",
    "print(\"Tamanho dos rótulos de teste:\", y_test.shape)\n",
    "\n",
    "print(\"\\nExemplo de X_train (primeiras 5 linhas):\")\n",
    "print(X_train[:5])  # Exibe as 5 primeiras linhas de X_train\n",
    "\n",
    "print(\"\\nExemplo de y_train (primeiros 5 rótulos):\")\n",
    "print(y_train[:5])  # Exibe os 5 primeiros rótulos de y_train\n",
    "\n",
    "print(\"\\nExemplo de X_test (primeiras 5 linhas):\")\n",
    "print(X_test[:5])  # Exibe as 5 primeiras linhas de X_test\n",
    "\n",
    "print(\"\\nExemplo de y_test (primeiros 5 rótulos):\")\n",
    "print(y_test[:5])  # Exibe os 5 primeiros rótulos de y_test"
   ]
  },
  {
   "cell_type": "markdown",
   "id": "6a84da7f-bc2d-4d30-b9fb-ecd865373abf",
   "metadata": {},
   "source": [
    "### Métricas"
   ]
  },
  {
   "cell_type": "code",
   "execution_count": 14,
   "id": "9800c7d6-52b8-46f2-a7a1-3f11207eec06",
   "metadata": {},
   "outputs": [
    {
     "name": "stdout",
     "output_type": "stream",
     "text": [
      "Melhores parâmetros encontrados: {'mlp__activation_fn': <class 'torch.nn.modules.activation.ReLU'>, 'mlp__dropout_rate': np.float64(0.12180188587721688), 'mlp__early_stopping': True, 'mlp__hidden_sizes': (128, 64), 'mlp__learning_rate': np.float64(0.009504585843529142), 'mlp__max_epochs': 75, 'mlp__patience': 10, 'mlp__verbose': False, 'mlp__weight_decay': np.float64(0.009158643902204486)}\n",
      "Acurácia média na CV: 0.5727272727272726\n",
      "              precision    recall  f1-score   support\n",
      "\n",
      "           1       0.73      0.60      0.66       440\n",
      "           2       0.60      0.70      0.65       440\n",
      "           3       0.57      0.59      0.58       440\n",
      "\n",
      "    accuracy                           0.63      1320\n",
      "   macro avg       0.64      0.63      0.63      1320\n",
      "weighted avg       0.64      0.63      0.63      1320\n",
      "\n"
     ]
    }
   ],
   "source": [
    "random_search = busca_melhores_mlp(X_train, y_train)\n",
    "best_model = random_search.best_estimator_\n",
    "best_params = random_search.best_params_\n",
    "best_score = random_search.best_score_\n",
    "\n",
    "print(\"Melhores parâmetros encontrados:\", best_params)\n",
    "print(\"Acurácia média na CV:\", best_score)\n",
    "\n",
    "# Faz predição codificada\n",
    "y_train_pred_encoded = random_search.predict(X_train)\n",
    "\n",
    "# Imprime relatório de classificação com rótulos originais\n",
    "classification_metrics(y_train, y_train_pred_encoded, le)"
   ]
  },
  {
   "cell_type": "code",
   "execution_count": 15,
   "id": "8bcd8047-0d77-47d5-aa8e-8db013d6dacb",
   "metadata": {},
   "outputs": [
    {
     "data": {
      "image/png": "[encoded data removed]",
      "text/plain": [
       "<Figure size 640x480 with 2 Axes>"
      ]
     },
     "metadata": {},
     "output_type": "display_data"
    },
    {
     "name": "stdout",
     "output_type": "stream",
     "text": [
      "              precision    recall  f1-score   support\n",
      "\n",
      "           1       0.61      0.53      0.57       189\n",
      "           2       0.55      0.68      0.61       189\n",
      "           3       0.58      0.51      0.54       189\n",
      "\n",
      "    accuracy                           0.57       567\n",
      "   macro avg       0.58      0.57      0.57       567\n",
      "weighted avg       0.58      0.57      0.57       567\n",
      "\n"
     ]
    }
   ],
   "source": [
    "# Predição no teste\n",
    "y_test_pred = random_search.predict(X_test)\n",
    "\n",
    "plot_confusion_matrix(y_test, y_test_pred, le, maior = False, title=\"Matriz de Confusão - Teste\")\n",
    "classification_metrics(y_test, y_test_pred, le)"
   ]
  },
  {
   "cell_type": "code",
   "execution_count": null,
   "id": "bdaa2a8f-1a64-4ea5-ac35-2576fa7a069c",
   "metadata": {},
   "outputs": [],
   "source": []
  }
 ],
 "metadata": {
  "kernelspec": {
   "display_name": "Python 3 (ipykernel)",
   "language": "python",
   "name": "python3"
  },
  "language_info": {
   "codemirror_mode": {
    "name": "ipython",
    "version": 3
   },
   "file_extension": ".py",
   "mimetype": "text/x-python",
   "name": "python",
   "nbconvert_exporter": "python",
   "pygments_lexer": "ipython3",
   "version": "3.10.12"
  }
 },
 "nbformat": 4,
 "nbformat_minor": 5
}
