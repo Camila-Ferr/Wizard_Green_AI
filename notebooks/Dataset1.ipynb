{
 "cells": [
  {
   "cell_type": "code",
   "execution_count": 1,
   "id": "d719672b-f334-4890-8091-d343ce5b2f9a",
   "metadata": {
    "scrolled": true
   },
   "outputs": [],
   "source": [
    "import warnings\n",
    "warnings.filterwarnings(\"ignore\")\n",
    "warnings.simplefilter(\"ignore\")"
   ]
  },
  {
   "cell_type": "code",
   "execution_count": 3,
   "id": "cc1069d0-b9f9-4863-97a4-8492204eeb94",
   "metadata": {},
   "outputs": [
    {
     "name": "stdout",
     "output_type": "stream",
     "text": [
      "Defaulting to user installation because normal site-packages is not writeable\n",
      "Requirement already satisfied: ucimlrepo in /home/camilaferreira/.local/lib/python3.10/site-packages (0.0.7)\n",
      "Requirement already satisfied: certifi>=2020.12.5 in /home/camilaferreira/.local/lib/python3.10/site-packages (from ucimlrepo) (2025.4.26)\n",
      "Requirement already satisfied: pandas>=1.0.0 in /home/camilaferreira/.local/lib/python3.10/site-packages (from ucimlrepo) (2.2.3)\n",
      "Requirement already satisfied: python-dateutil>=2.8.2 in /home/camilaferreira/.local/lib/python3.10/site-packages (from pandas>=1.0.0->ucimlrepo) (2.9.0.post0)\n",
      "Requirement already satisfied: numpy>=1.22.4 in /home/camilaferreira/.local/lib/python3.10/site-packages (from pandas>=1.0.0->ucimlrepo) (2.2.5)\n",
      "Requirement already satisfied: tzdata>=2022.7 in /home/camilaferreira/.local/lib/python3.10/site-packages (from pandas>=1.0.0->ucimlrepo) (2025.2)\n",
      "Requirement already satisfied: pytz>=2020.1 in /usr/lib/python3/dist-packages (from pandas>=1.0.0->ucimlrepo) (2022.1)\n",
      "Requirement already satisfied: six>=1.5 in /usr/lib/python3/dist-packages (from python-dateutil>=2.8.2->pandas>=1.0.0->ucimlrepo) (1.16.0)\n"
     ]
    }
   ],
   "source": [
    "!pip install ucimlrepo\n",
    "\n",
    "\n",
    "from ucimlrepo import fetch_ucirepo \n",
    "from sklearn.model_selection import train_test_split\n",
    "import sys\n",
    "import os\n",
    "\n"
   ]
  },
  {
   "cell_type": "code",
   "execution_count": 4,
   "id": "f6f6957d-cc6c-4d8c-b67d-b206c0b57fce",
   "metadata": {},
   "outputs": [],
   "source": [
    "import sys\n",
    "import os\n",
    "\n",
    "# Caminho absoluto para a pasta src\n",
    "src_path = os.path.abspath(os.path.join(os.getcwd(), '..', 'src'))\n",
    "sys.path.append(src_path)\n",
    "\n",
    "from model_wizard import buscar_melhor_wisard\n",
    "from tratamento_dados import preprocess_data\n",
    "from metricas import plot_confusion_matrix, classification_metrics"
   ]
  },
  {
   "cell_type": "markdown",
   "id": "466df281-a20a-4d3b-9f91-07188ceefb52",
   "metadata": {},
   "source": [
    "## Primeiro Dataset"
   ]
  },
  {
   "cell_type": "code",
   "execution_count": null,
   "id": "a1e49825-7777-4c5e-8b71-19946dc21d08",
   "metadata": {},
   "outputs": [],
   "source": [
    "# fetch dataset \n",
    "estimation_of_obesity_levels_based_on_eating_habits_and_physical_condition = fetch_ucirepo(id=544) \n",
    "  \n",
    "# data (as pandas dataframes) \n",
    "X = estimation_of_obesity_levels_based_on_eating_habits_and_physical_condition.data.features \n",
    "y = estimation_of_obesity_levels_based_on_eating_habits_and_physical_condition.data.targets \n",
    "  \n",
    "# metadata \n",
    "print(estimation_of_obesity_levels_based_on_eating_habits_and_physical_condition.metadata) \n",
    "  \n",
    "# variable information \n",
    "print(estimation_of_obesity_levels_based_on_eating_habits_and_physical_condition.variables)\n",
    "\n",
    "print(y)"
   ]
  },
  {
   "cell_type": "markdown",
   "id": "84438c5e-0a2e-4b53-ac45-9a303b356e23",
   "metadata": {},
   "source": [
    "### Visualização de datasets"
   ]
  },
  {
   "cell_type": "code",
   "execution_count": null,
   "id": "5909e1d1-22cb-46a0-bfbb-def786ab2d87",
   "metadata": {},
   "outputs": [],
   "source": [
    "print(\"Features:\")\n",
    "print(X.head())\n",
    "print(\"\\nTargets:\")\n",
    "print(y)\n",
    "\n",
    "# Identificar colunas categóricas e numéricas\n",
    "categorical_cols = X.select_dtypes(include=['object']).columns.tolist()\n",
    "numeric_cols = X.select_dtypes(include=['number']).columns.tolist()\n",
    "\n",
    "print(\"\\nColunas categóricas:\", categorical_cols)\n",
    "print(\"Colunas numéricas:\", numeric_cols)"
   ]
  },
  {
   "cell_type": "markdown",
   "id": "265d129f-9e1b-4ba0-98af-6f5132ee4fc1",
   "metadata": {},
   "source": [
    "### Tratamento de Dados"
   ]
  },
  {
   "cell_type": "code",
   "execution_count": null,
   "id": "aa570f1e-cfa1-4047-afc4-b989ea0ebdca",
   "metadata": {},
   "outputs": [],
   "source": [
    "X_processed, y_encoded, le = preprocess_data(X, y, categorical_cols, numeric_cols)\n",
    "# Dividir em treino e teste\n",
    "X_train, X_test, y_train, y_test = train_test_split(\n",
    "    X_processed, y_encoded, test_size=0.3, random_state=42, stratify=y_encoded\n",
    ")\n",
    "# Exibe as dimensões dos conjuntos de treino e teste\n",
    "print(\"Tamanho do conjunto de treino:\", X_train.shape)\n",
    "print(\"Tamanho do conjunto de teste:\", X_test.shape)\n",
    "print(\"Tamanho dos rótulos de treino:\", y_train.shape)\n",
    "print(\"Tamanho dos rótulos de teste:\", y_test.shape)\n",
    "\n",
    "print(\"\\nExemplo de X_train (primeiras 5 linhas):\")\n",
    "print(X_train[:5])  # Exibe as 5 primeiras linhas de X_train\n",
    "\n",
    "print(\"\\nExemplo de y_train (primeiros 5 rótulos):\")\n",
    "print(y_train[:5])  # Exibe os 5 primeiros rótulos de y_train\n",
    "\n",
    "print(\"\\nExemplo de X_test (primeiras 5 linhas):\")\n",
    "print(X_test[:5])  # Exibe as 5 primeiras linhas de X_test\n",
    "\n",
    "print(\"\\nExemplo de y_test (primeiros 5 rótulos):\")\n",
    "print(y_test[:5])  # Exibe os 5 primeiros rótulos de y_test"
   ]
  },
  {
   "cell_type": "markdown",
   "id": "a0630283-88e2-44cb-b40e-8d89d6069977",
   "metadata": {},
   "source": [
    "#### Métricas"
   ]
  },
  {
   "cell_type": "code",
   "execution_count": null,
   "id": "9b87da2c-b6a5-414a-a5aa-34e63787f467",
   "metadata": {},
   "outputs": [],
   "source": [
    "\n",
    "best_model, best_params, best_score, random_search = buscar_melhor_wisard(X_train, y_train)\n",
    "\n",
    "print(\"Melhores parâmetros encontrados:\", best_params)\n",
    "print(\"Melhor acurácia:\", best_score)\n",
    "\n",
    "# Faz predição codificada\n",
    "y_train_pred_encoded = random_search.predict(X_train)\n",
    "\n",
    "# Plota matriz de confusão com labels na vertical\n",
    "plot_confusion_matrix(y_train, y_train_pred_encoded, le, title=\"Matriz de Confusão - Treinamento\")\n",
    "\n",
    "# Imprime relatório de classificação com rótulos originais\n",
    "classification_metrics(y_train, y_train_pred_encoded, le)"
   ]
  },
  {
   "cell_type": "markdown",
   "id": "b81d3145-a0cc-4229-92fe-77ca3ad7dbc9",
   "metadata": {},
   "source": [
    "### Predição"
   ]
  },
  {
   "cell_type": "code",
   "execution_count": null,
   "id": "ba9462bc-7bb7-4f36-9f86-db8fdd4621fc",
   "metadata": {},
   "outputs": [],
   "source": [
    "# Predição no teste\n",
    "y_test_pred = random_search.predict(X_test)\n",
    "\n",
    "plot_confusion_matrix(y_test, y_test_pred, le, title=\"Matriz de Confusão - Teste\")\n",
    "classification_metrics(y_test, y_test_pred, le)"
   ]
  }
 ],
 "metadata": {
  "kernelspec": {
   "display_name": "Python 3 (ipykernel)",
   "language": "python",
   "name": "python3"
  },
  "language_info": {
   "codemirror_mode": {
    "name": "ipython",
    "version": 3
   },
   "file_extension": ".py",
   "mimetype": "text/x-python",
   "name": "python",
   "nbconvert_exporter": "python",
   "pygments_lexer": "ipython3",
   "version": "3.10.12"
  }
 },
 "nbformat": 4,
 "nbformat_minor": 5
}
