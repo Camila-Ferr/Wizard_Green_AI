{
 "cells": [
  {
   "cell_type": "code",
   "execution_count": 17,
   "id": "d719672b-f334-4890-8091-d343ce5b2f9a",
   "metadata": {
    "scrolled": true
   },
   "outputs": [],
   "source": [
    "import warnings\n",
    "warnings.filterwarnings(\"ignore\")\n",
    "warnings.simplefilter(\"ignore\")"
   ]
  },
  {
   "cell_type": "code",
   "execution_count": 18,
   "id": "cc1069d0-b9f9-4863-97a4-8492204eeb94",
   "metadata": {},
   "outputs": [
    {
     "name": "stdout",
     "output_type": "stream",
     "text": [
      "Defaulting to user installation because normal site-packages is not writeable\n",
      "Requirement already satisfied: ucimlrepo in /home/camilaferreira/.local/lib/python3.10/site-packages (0.0.7)\n",
      "Requirement already satisfied: certifi>=2020.12.5 in /home/camilaferreira/.local/lib/python3.10/site-packages (from ucimlrepo) (2025.4.26)\n",
      "Requirement already satisfied: pandas>=1.0.0 in /home/camilaferreira/.local/lib/python3.10/site-packages (from ucimlrepo) (2.2.3)\n",
      "Requirement already satisfied: numpy>=1.22.4 in /home/camilaferreira/.local/lib/python3.10/site-packages (from pandas>=1.0.0->ucimlrepo) (2.2.5)\n",
      "Requirement already satisfied: tzdata>=2022.7 in /home/camilaferreira/.local/lib/python3.10/site-packages (from pandas>=1.0.0->ucimlrepo) (2025.2)\n",
      "Requirement already satisfied: python-dateutil>=2.8.2 in /home/camilaferreira/.local/lib/python3.10/site-packages (from pandas>=1.0.0->ucimlrepo) (2.9.0.post0)\n",
      "Requirement already satisfied: pytz>=2020.1 in /usr/lib/python3/dist-packages (from pandas>=1.0.0->ucimlrepo) (2022.1)\n",
      "Requirement already satisfied: six>=1.5 in /usr/lib/python3/dist-packages (from python-dateutil>=2.8.2->pandas>=1.0.0->ucimlrepo) (1.16.0)\n"
     ]
    }
   ],
   "source": [
    "!pip install ucimlrepo\n",
    "\n",
    "\n",
    "from ucimlrepo import fetch_ucirepo \n",
    "from sklearn.model_selection import train_test_split\n",
    "import sys\n",
    "import os\n",
    "import pandas as pd\n",
    "\n"
   ]
  },
  {
   "cell_type": "code",
   "execution_count": 19,
   "id": "f6f6957d-cc6c-4d8c-b67d-b206c0b57fce",
   "metadata": {},
   "outputs": [],
   "source": [
    "# Caminho absoluto para a pasta src\n",
    "src_path = os.path.abspath(os.path.join(os.getcwd(), '..', 'src'))\n",
    "src_path_2 = os.path.abspath(os.path.join(os.getcwd(), '..', 'src/modelos'))\n",
    "sys.path.append(src_path)\n",
    "sys.path.append(src_path_2)\n",
    "\n",
    "from model_wizard import buscar_melhor_wisard\n",
    "from model_mlp import busca_melhores_mlp\n",
    "from tratamento_dados import preprocess_numeric_data_wizard,preprocess_data_standart_scale\n",
    "from metricas import plot_confusion_matrix, classification_metrics\n",
    "from smote import SmoteTransformer"
   ]
  },
  {
   "cell_type": "markdown",
   "id": "466df281-a20a-4d3b-9f91-07188ceefb52",
   "metadata": {},
   "source": [
    "## Quinto Dataset"
   ]
  },
  {
   "cell_type": "code",
   "execution_count": 20,
   "id": "a1e49825-7777-4c5e-8b71-19946dc21d08",
   "metadata": {},
   "outputs": [
    {
     "name": "stdout",
     "output_type": "stream",
     "text": [
      "{'uci_id': 33, 'name': 'Dermatology', 'repository_url': 'https://archive.ics.uci.edu/dataset/33/dermatology', 'data_url': 'https://archive.ics.uci.edu/static/public/33/data.csv', 'abstract': 'Aim for this dataset is to determine the type of Eryhemato-Squamous Disease.', 'area': 'Health and Medicine', 'tasks': ['Classification'], 'characteristics': ['Multivariate'], 'num_instances': 366, 'num_features': 34, 'feature_types': ['Categorical', 'Integer'], 'demographics': ['Age'], 'target_col': ['class'], 'index_col': None, 'has_missing_values': 'yes', 'missing_values_symbol': 'NaN', 'year_of_dataset_creation': 1998, 'last_updated': 'Wed Feb 14 2024', 'dataset_doi': '10.24432/C5FK5P', 'creators': ['Nilsel Ilter', 'H. Guvenir'], 'intro_paper': {'ID': 387, 'type': 'NATIVE', 'title': 'Learning differential diagnosis of erythemato-squamous diseases using voting feature intervals', 'authors': 'H. Altay Güvenir, G. Demiröz, N. Ilter', 'venue': 'Artif. Intell. Medicine', 'year': 1998, 'journal': None, 'DOI': None, 'URL': 'https://www.semanticscholar.org/paper/eb371061d34d08b01856f8fe8e66d2a689f3419c', 'sha': None, 'corpus': None, 'arxiv': None, 'mag': None, 'acl': None, 'pmid': '9698151', 'pmcid': None}, 'additional_info': {'summary': 'This database contains 34 attributes, 33 of which are linear valued and one of them is nominal. \\r\\n\\r\\nThe differential diagnosis of erythemato-squamous diseases is a real problem in dermatology. They all share the clinical features of erythema and scaling, with very little differences. The diseases in this group are psoriasis, seboreic dermatitis, lichen planus, pityriasis rosea, cronic dermatitis, and pityriasis rubra pilaris. Usually a biopsy is necessary for the diagnosis but unfortunately these diseases share many histopathological features as well. Another difficulty for the differential diagnosis is that a disease may show the features of another disease at the beginning stage and may have the characteristic features at the following stages. Patients were first evaluated clinically with 12 features. Afterwards, skin samples were taken for the evaluation of 22 histopathological features. The values of the histopathological features are determined by an analysis of the samples under a microscope. \\r\\n\\r\\nIn the dataset constructed for this domain, the family history feature has the value 1 if any of these diseases has been observed in the family, and 0 otherwise. The age feature simply represents the age of the patient. Every other feature (clinical and histopathological) was given a degree in the range of 0 to 3. Here, 0 indicates that the feature was not present, 3 indicates the largest amount possible, and 1, 2 indicate the relative intermediate values.\\r\\n\\r\\nThe names and id numbers of the patients were recently removed from the database.', 'purpose': None, 'funded_by': None, 'instances_represent': None, 'recommended_data_splits': None, 'sensitive_data': None, 'preprocessing_description': None, 'variable_info': '      Clinical Attributes: (take values 0, 1, 2, 3, unless otherwise indicated)\\r\\n      1: erythema\\r\\n      2: scaling\\r\\n      3: definite borders\\r\\n      4: itching\\r\\n      5: koebner phenomenon\\r\\n      6: polygonal papules\\r\\n      7: follicular papules\\r\\n      8: oral mucosal involvement\\r\\n      9: knee and elbow involvement\\r\\n     10: scalp involvement\\r\\n     11: family history, (0 or 1)\\r\\n     34: Age (linear)\\r\\n\\r\\n     Histopathological Attributes: (take values 0, 1, 2, 3)\\r\\n     12: melanin incontinence\\r\\n     13: eosinophils in the infiltrate\\r\\n     14: PNL infiltrate\\r\\n     15: fibrosis of the papillary dermis\\r\\n     16: exocytosis\\r\\n     17: acanthosis\\r\\n     18: hyperkeratosis\\r\\n     19: parakeratosis\\r\\n     20: clubbing of the rete ridges\\r\\n     21: elongation of the rete ridges\\r\\n     22: thinning of the suprapapillary epidermis\\r\\n     23: spongiform pustule\\r\\n     24: munro microabcess\\r\\n     25: focal hypergranulosis\\r\\n     26: disappearance of the granular layer\\r\\n     27: vacuolisation and damage of basal layer\\r\\n     28: spongiosis\\r\\n     29: saw-tooth appearance of retes\\r\\n     30: follicular horn plug\\r\\n     31: perifollicular parakeratosis\\r\\n     32: inflammatory monoluclear inflitrate\\r\\n     33: band-like infiltrate', 'citation': None}}\n",
      "                                           name     role     type demographic  \\\n",
      "0                                      erythema  Feature  Integer        None   \n",
      "1                                       scaling  Feature  Integer        None   \n",
      "2                              definite-borders  Feature  Integer        None   \n",
      "3                                       itching  Feature  Integer        None   \n",
      "4                            koebner phenomenon  Feature  Integer        None   \n",
      "5                             polygonal papules  Feature  Integer        None   \n",
      "6                            follicular papules  Feature  Integer        None   \n",
      "7                      oral-mucosal involvement  Feature  Integer        None   \n",
      "8                        knee elbow involvement  Feature  Integer        None   \n",
      "9                             scalp involvement  Feature  Integer        None   \n",
      "10                               family history  Feature   Binary        None   \n",
      "11                         melanin incontinence  Feature  Integer        None   \n",
      "12                eosinophils in the infiltrate  Feature  Integer        None   \n",
      "13                               pnl infiltrate  Feature  Integer        None   \n",
      "14             fibrosis of the papillary dermis  Feature  Integer        None   \n",
      "15                                   exocytosis  Feature  Integer        None   \n",
      "16                                   acanthosis  Feature  Integer        None   \n",
      "17                               hyperkeratosis  Feature  Integer        None   \n",
      "18                                parakeratosis  Feature  Integer        None   \n",
      "19                  clubbing of the rete ridges  Feature  Integer        None   \n",
      "20                elongation of the rete ridges  Feature  Integer        None   \n",
      "21     thinning of the suprapapillary epidermis  Feature  Integer        None   \n",
      "22                           spongiform pustule  Feature  Integer        None   \n",
      "23                            munro microabcess  Feature  Integer        None   \n",
      "24                        focal hypergranulosis  Feature  Integer        None   \n",
      "25          disappearance of the granular layer  Feature  Integer        None   \n",
      "26  vacuolisation and damage of the basal layer  Feature  Integer        None   \n",
      "27                                   spongiosis  Feature  Integer        None   \n",
      "28                saw-tooth appearance of retes  Feature  Integer        None   \n",
      "29                         follicular horn plug  Feature  Integer        None   \n",
      "30                 perifollicular parakeratosis  Feature  Integer        None   \n",
      "31          inflammatory monoluclear infiltrate  Feature  Integer        None   \n",
      "32                         band-like infiltrate  Feature  Integer        None   \n",
      "33                                          age  Feature  Integer         Age   \n",
      "34                                        class   Target  Integer        None   \n",
      "\n",
      "   description units missing_values  \n",
      "0         None  None             no  \n",
      "1         None  None             no  \n",
      "2         None  None             no  \n",
      "3         None  None             no  \n",
      "4         None  None             no  \n",
      "5         None  None             no  \n",
      "6         None  None             no  \n",
      "7         None  None             no  \n",
      "8         None  None             no  \n",
      "9         None  None             no  \n",
      "10        None  None             no  \n",
      "11        None  None             no  \n",
      "12        None  None             no  \n",
      "13        None  None             no  \n",
      "14        None  None             no  \n",
      "15        None  None             no  \n",
      "16        None  None             no  \n",
      "17        None  None             no  \n",
      "18        None  None             no  \n",
      "19        None  None             no  \n",
      "20        None  None             no  \n",
      "21        None  None             no  \n",
      "22        None  None             no  \n",
      "23        None  None             no  \n",
      "24        None  None             no  \n",
      "25        None  None             no  \n",
      "26        None  None             no  \n",
      "27        None  None             no  \n",
      "28        None  None             no  \n",
      "29        None  None             no  \n",
      "30        None  None             no  \n",
      "31        None  None             no  \n",
      "32        None  None             no  \n",
      "33        None  None            yes  \n",
      "34        None  None             no  \n"
     ]
    }
   ],
   "source": [
    "from ucimlrepo import fetch_ucirepo \n",
    "  \n",
    "# fetch dataset \n",
    "dermatology = fetch_ucirepo(id=33) \n",
    "  \n",
    "# data (as pandas dataframes) \n",
    "X = dermatology.data.features \n",
    "y = dermatology.data.targets \n",
    "  \n",
    "# metadata \n",
    "print(dermatology.metadata) \n",
    "  \n",
    "# variable information \n",
    "print(dermatology.variables) \n"
   ]
  },
  {
   "cell_type": "markdown",
   "id": "84438c5e-0a2e-4b53-ac45-9a303b356e23",
   "metadata": {},
   "source": [
    "### Visualização de datasets"
   ]
  },
  {
   "cell_type": "code",
   "execution_count": 21,
   "id": "5909e1d1-22cb-46a0-bfbb-def786ab2d87",
   "metadata": {},
   "outputs": [
    {
     "name": "stdout",
     "output_type": "stream",
     "text": [
      "Features:\n",
      "   erythema  scaling  definite-borders  itching  koebner phenomenon  \\\n",
      "0         2        2                 0        3                   0   \n",
      "1         3        3                 3        2                   1   \n",
      "2         2        1                 2        3                   1   \n",
      "3         2        2                 2        0                   0   \n",
      "4         2        3                 2        2                   2   \n",
      "\n",
      "   polygonal papules  follicular papules  oral-mucosal involvement  \\\n",
      "0                  0                   0                         0   \n",
      "1                  0                   0                         0   \n",
      "2                  3                   0                         3   \n",
      "3                  0                   0                         0   \n",
      "4                  2                   0                         2   \n",
      "\n",
      "   knee elbow involvement  scalp involvement  ...  focal hypergranulosis  \\\n",
      "0                       1                  0  ...                      0   \n",
      "1                       1                  1  ...                      0   \n",
      "2                       0                  0  ...                      2   \n",
      "3                       3                  2  ...                      0   \n",
      "4                       0                  0  ...                      2   \n",
      "\n",
      "   disappearance of the granular layer  \\\n",
      "0                                    0   \n",
      "1                                    0   \n",
      "2                                    0   \n",
      "3                                    3   \n",
      "4                                    2   \n",
      "\n",
      "   vacuolisation and damage of the basal layer  spongiosis  \\\n",
      "0                                            0           3   \n",
      "1                                            0           0   \n",
      "2                                            2           3   \n",
      "3                                            0           0   \n",
      "4                                            3           2   \n",
      "\n",
      "   saw-tooth appearance of retes  follicular horn plug  \\\n",
      "0                              0                     0   \n",
      "1                              0                     0   \n",
      "2                              2                     0   \n",
      "3                              0                     0   \n",
      "4                              3                     0   \n",
      "\n",
      "   perifollicular parakeratosis  inflammatory monoluclear infiltrate  \\\n",
      "0                             0                                    1   \n",
      "1                             0                                    1   \n",
      "2                             0                                    2   \n",
      "3                             0                                    3   \n",
      "4                             0                                    2   \n",
      "\n",
      "   band-like infiltrate   age  \n",
      "0                     0  55.0  \n",
      "1                     0   8.0  \n",
      "2                     3  26.0  \n",
      "3                     0  40.0  \n",
      "4                     3  45.0  \n",
      "\n",
      "[5 rows x 34 columns]\n",
      "\n",
      "Targets únicos:\n",
      "[1 2 3 4 5 6]\n",
      "\n",
      "Colunas categóricas: []\n",
      "Colunas numéricas: ['erythema', 'scaling', 'definite-borders', 'itching', 'koebner phenomenon', 'polygonal papules', 'follicular papules', 'oral-mucosal involvement', 'knee elbow involvement', 'scalp involvement', 'family history', 'melanin incontinence', 'eosinophils in the infiltrate', 'pnl infiltrate', 'fibrosis of the papillary dermis', 'exocytosis', 'acanthosis', 'hyperkeratosis', 'parakeratosis', 'clubbing of the rete ridges', 'elongation of the rete ridges', 'thinning of the suprapapillary epidermis', 'spongiform pustule', 'munro microabcess', 'focal hypergranulosis', 'disappearance of the granular layer', 'vacuolisation and damage of the basal layer', 'spongiosis', 'saw-tooth appearance of retes', 'follicular horn plug', 'perifollicular parakeratosis', 'inflammatory monoluclear infiltrate', 'band-like infiltrate', 'age']\n"
     ]
    }
   ],
   "source": [
    "import numpy as np\n",
    "print(\"Features:\")\n",
    "print(X.head())\n",
    "print(\"\\nTargets únicos:\")\n",
    "print(np.unique(y))\n",
    "\n",
    "# Identificar colunas categóricas e numéricas\n",
    "categorical_cols = X.select_dtypes(include=['object']).columns.tolist()\n",
    "numeric_cols = X.select_dtypes(include=['number']).columns.tolist()\n",
    "\n",
    "print(\"\\nColunas categóricas:\", categorical_cols)\n",
    "print(\"Colunas numéricas:\", numeric_cols)"
   ]
  },
  {
   "cell_type": "markdown",
   "id": "265d129f-9e1b-4ba0-98af-6f5132ee4fc1",
   "metadata": {},
   "source": [
    "### Tratamento de Dados"
   ]
  },
  {
   "cell_type": "code",
   "execution_count": 22,
   "id": "d54b6a9f-e253-487a-b7ea-26b5740bafc8",
   "metadata": {},
   "outputs": [
    {
     "name": "stdout",
     "output_type": "stream",
     "text": [
      "\n",
      "Tamanho do conjunto após SMOTE: (666, 34)\n",
      "Tamanho dos rótulos  após SMOTE: (666, 1)\n"
     ]
    }
   ],
   "source": [
    "# Inicializa o SMOTE transformer\n",
    "smote_transformer = SmoteTransformer(random_state=42)\n",
    "\n",
    "# Aplica SMOTE\n",
    "X, y = smote_transformer.fit_transform(X, y)\n",
    "\n",
    "# Mostra as dimensões após SMOTE\n",
    "print(\"\\nTamanho do conjunto após SMOTE:\", X.shape)\n",
    "print(\"Tamanho dos rótulos  após SMOTE:\", y.shape)"
   ]
  },
  {
   "cell_type": "code",
   "execution_count": 23,
   "id": "aa570f1e-cfa1-4047-afc4-b989ea0ebdca",
   "metadata": {},
   "outputs": [
    {
     "name": "stdout",
     "output_type": "stream",
     "text": [
      "Tamanho do conjunto de treino: (466, 272)\n",
      "Tamanho do conjunto de teste: (200, 272)\n",
      "Tamanho dos rótulos de treino: (466,)\n",
      "Tamanho dos rótulos de teste: (200,)\n",
      "\n",
      "Exemplo de X_train (primeiras 5 linhas):\n",
      "[[1 1 1 ... 0 0 0]\n",
      " [1 1 1 ... 0 0 0]\n",
      " [1 1 1 ... 0 0 0]\n",
      " [1 1 1 ... 0 0 0]\n",
      " [1 1 1 ... 0 0 0]]\n",
      "\n",
      "Exemplo de y_train (primeiros 5 rótulos):\n",
      "[3 2 5 0 5]\n",
      "\n",
      "Exemplo de X_test (primeiras 5 linhas):\n",
      "[[1 1 0 ... 0 0 0]\n",
      " [1 1 1 ... 0 0 0]\n",
      " [1 1 1 ... 0 0 0]\n",
      " [1 1 1 ... 0 0 0]\n",
      " [1 1 0 ... 0 0 0]]\n",
      "\n",
      "Exemplo de y_test (primeiros 5 rótulos):\n",
      "[4 0 1 5 4]\n"
     ]
    }
   ],
   "source": [
    "# Processa os dados\n",
    "X_processed, y_encoded, le = preprocess_numeric_data_wizard(X, y, numeric_cols)\n",
    "\n",
    "# Dividir em treino e teste\n",
    "X_train, X_test, y_train, y_test = train_test_split(\n",
    "    X_processed, y_encoded, test_size=0.3, random_state=42, stratify=y_encoded\n",
    ")\n",
    "\n",
    "# Exibe as dimensões dos conjuntos de treino e teste\n",
    "print(\"Tamanho do conjunto de treino:\", X_train.shape)\n",
    "print(\"Tamanho do conjunto de teste:\", X_test.shape)\n",
    "print(\"Tamanho dos rótulos de treino:\", y_train.shape)\n",
    "print(\"Tamanho dos rótulos de teste:\", y_test.shape)\n",
    "\n",
    "print(\"\\nExemplo de X_train (primeiras 5 linhas):\")\n",
    "print(X_train[:5])\n",
    "\n",
    "print(\"\\nExemplo de y_train (primeiros 5 rótulos):\")\n",
    "print(y_train[:5])\n",
    "\n",
    "print(\"\\nExemplo de X_test (primeiras 5 linhas):\")\n",
    "print(X_test[:5])\n",
    "\n",
    "print(\"\\nExemplo de y_test (primeiros 5 rótulos):\")\n",
    "print(y_test[:5])\n"
   ]
  },
  {
   "cell_type": "markdown",
   "id": "a0630283-88e2-44cb-b40e-8d89d6069977",
   "metadata": {},
   "source": [
    "#### Métricas"
   ]
  },
  {
   "cell_type": "code",
   "execution_count": 24,
   "id": "9b87da2c-b6a5-414a-a5aa-34e63787f467",
   "metadata": {},
   "outputs": [
    {
     "name": "stdout",
     "output_type": "stream",
     "text": [
      "Melhores parâmetros encontrados: {'wisard__tuple_size': 11, 'wisard__bleaching': True}\n",
      "Melhor acurácia: 0.9678108629721534\n",
      "              precision    recall  f1-score   support\n",
      "\n",
      "           1       1.00      1.00      1.00        78\n",
      "           2       0.80      1.00      0.89        78\n",
      "           3       1.00      1.00      1.00        78\n",
      "           4       1.00      0.74      0.85        77\n",
      "           5       1.00      1.00      1.00        77\n",
      "           6       1.00      1.00      1.00        78\n",
      "\n",
      "    accuracy                           0.96       466\n",
      "   macro avg       0.97      0.96      0.96       466\n",
      "weighted avg       0.97      0.96      0.96       466\n",
      "\n"
     ]
    }
   ],
   "source": [
    "\n",
    "best_model, best_params, best_score, random_search = buscar_melhor_wisard(X_train, y_train)\n",
    "\n",
    "print(\"Melhores parâmetros encontrados:\", best_params)\n",
    "print(\"Melhor acurácia:\", best_score)\n",
    "\n",
    "# Faz predição codificada\n",
    "y_train_pred_encoded = random_search.predict(X_train)\n",
    "\n",
    "# Imprime relatório de classificação com rótulos originais\n",
    "classification_metrics(y_train, y_train_pred_encoded, le)"
   ]
  },
  {
   "cell_type": "markdown",
   "id": "b81d3145-a0cc-4229-92fe-77ca3ad7dbc9",
   "metadata": {},
   "source": [
    "### Predição"
   ]
  },
  {
   "cell_type": "code",
   "execution_count": 25,
   "id": "ba9462bc-7bb7-4f36-9f86-db8fdd4621fc",
   "metadata": {},
   "outputs": [
    {
     "data": {
      "image/png": "[encoded data removed]",
      "text/plain": [
       "<Figure size 640x480 with 2 Axes>"
      ]
     },
     "metadata": {},
     "output_type": "display_data"
    },
    {
     "name": "stdout",
     "output_type": "stream",
     "text": [
      "              precision    recall  f1-score   support\n",
      "\n",
      "           1       1.00      1.00      1.00        33\n",
      "           2       0.80      1.00      0.89        33\n",
      "           3       1.00      1.00      1.00        33\n",
      "           4       1.00      0.76      0.87        34\n",
      "           5       1.00      1.00      1.00        34\n",
      "           6       1.00      1.00      1.00        33\n",
      "\n",
      "    accuracy                           0.96       200\n",
      "   macro avg       0.97      0.96      0.96       200\n",
      "weighted avg       0.97      0.96      0.96       200\n",
      "\n"
     ]
    }
   ],
   "source": [
    "# Predição no teste\n",
    "y_test_pred = random_search.predict(X_test)\n",
    "\n",
    "plot_confusion_matrix(y_test, y_test_pred, le, maior = False, title=\"Matriz de Confusão - Teste\")\n",
    "classification_metrics(y_test, y_test_pred, le)"
   ]
  },
  {
   "cell_type": "markdown",
   "id": "3210ec15-9e61-42a5-acd6-70242fe2f69c",
   "metadata": {},
   "source": [
    "## MLP"
   ]
  },
  {
   "cell_type": "markdown",
   "id": "6e19aded-ab25-46e1-9230-e2a2336264d8",
   "metadata": {},
   "source": [
    "### Tratamento de Dados"
   ]
  },
  {
   "cell_type": "code",
   "execution_count": 12,
   "id": "573f58ea-2646-4584-93a4-0e862a270c98",
   "metadata": {},
   "outputs": [
    {
     "name": "stdout",
     "output_type": "stream",
     "text": [
      "\n",
      "Tamanho do conjunto após SMOTE: (666, 34)\n",
      "Tamanho dos rótulos  após SMOTE: (666, 1)\n"
     ]
    }
   ],
   "source": [
    "# Inicializa o SMOTE transformer\n",
    "smote_transformer = SmoteTransformer(random_state=42)\n",
    "\n",
    "# Aplica SMOTE\n",
    "X, y = smote_transformer.fit_transform(X, y)\n",
    "\n",
    "# Mostra as dimensões após SMOTE\n",
    "print(\"\\nTamanho do conjunto após SMOTE:\", X.shape)\n",
    "print(\"Tamanho dos rótulos  após SMOTE:\", y.shape)"
   ]
  },
  {
   "cell_type": "code",
   "execution_count": 13,
   "id": "1b5a0507-1e2d-4a33-8207-29dc1187b464",
   "metadata": {},
   "outputs": [
    {
     "name": "stdout",
     "output_type": "stream",
     "text": [
      "Tamanho do conjunto de treino: (466, 34)\n",
      "Tamanho do conjunto de teste: (200, 34)\n",
      "Tamanho dos rótulos de treino: (466,)\n",
      "Tamanho dos rótulos de teste: (200,)\n",
      "\n",
      "Exemplo de X_train (primeiras 5 linhas):\n",
      "     erythema   scaling  definite-borders   itching  koebner phenomenon  \\\n",
      "263  0.162494  0.585642          0.858670 -1.074499           -0.614351   \n",
      "113  0.162494  0.585642          1.966954  0.786662            1.850456   \n",
      "607  0.162494  0.585642         -1.357897 -1.074499           -0.614351   \n",
      "1    1.708508  2.051948          1.966954  0.786662            0.618052   \n",
      "635  0.162494  0.585642         -0.249613 -1.074499           -0.614351   \n",
      "\n",
      "     polygonal papules  follicular papules  oral-mucosal involvement  \\\n",
      "263          -0.422059           -0.462962                 -0.407583   \n",
      "113           1.920370           -0.462962                  3.507566   \n",
      "607          -0.422059            0.821757                 -0.407583   \n",
      "1            -0.422059           -0.462962                 -0.407583   \n",
      "635          -0.422059            2.106476                 -0.407583   \n",
      "\n",
      "     knee elbow involvement  scalp involvement  ...  focal hypergranulosis  \\\n",
      "263               -0.585495          -0.447304  ...              -0.423587   \n",
      "113               -0.585495          -0.447304  ...               2.212946   \n",
      "607                0.548050           0.919230  ...              -0.423587   \n",
      "1                  0.548050           0.919230  ...              -0.423587   \n",
      "635                0.548050          -0.447304  ...              -0.423587   \n",
      "\n",
      "     disappearance of the granular layer  \\\n",
      "263                             1.057939   \n",
      "113                            -0.397820   \n",
      "607                            -0.397820   \n",
      "1                              -0.397820   \n",
      "635                            -0.397820   \n",
      "\n",
      "     vacuolisation and damage of the basal layer  spongiosis  \\\n",
      "263                                    -0.433397    0.958290   \n",
      "113                                     3.058244    1.910858   \n",
      "607                                    -0.433397    0.005721   \n",
      "1                                      -0.433397   -0.946847   \n",
      "635                                    -0.433397    0.958290   \n",
      "\n",
      "     saw-tooth appearance of retes  follicular horn plug  \\\n",
      "263                      -0.430128             -0.406736   \n",
      "113                       1.898857             -0.406736   \n",
      "607                      -0.430128              1.215336   \n",
      "1                        -0.430128             -0.406736   \n",
      "635                      -0.430128              2.837407   \n",
      "\n",
      "     perifollicular parakeratosis  inflammatory monoluclear infiltrate  \\\n",
      "263                     -0.430792                             1.840463   \n",
      "113                     -0.430792                             0.431557   \n",
      "607                      0.941972                            -0.977349   \n",
      "1                       -0.430792                            -0.977349   \n",
      "635                      2.314736                             0.431557   \n",
      "\n",
      "     band-like infiltrate       age  \n",
      "263             -0.449792  0.941558  \n",
      "113              1.501750  1.186859  \n",
      "607             -0.449792 -1.457639  \n",
      "1               -0.449792 -1.511453  \n",
      "635             -0.449792 -1.388803  \n",
      "\n",
      "[5 rows x 34 columns]\n",
      "\n",
      "Exemplo de y_train (primeiros 5 rótulos):\n",
      "[3 2 5 0 5]\n",
      "\n",
      "Exemplo de X_test (primeiras 5 linhas):\n",
      "     erythema   scaling  definite-borders   itching  koebner phenomenon  \\\n",
      "525 -1.383520 -2.346970         -1.357897 -0.143919           -0.614351   \n",
      "344  1.708508  0.585642          0.858670  1.717243            1.850456   \n",
      "369  0.162494  0.585642         -0.249613 -0.143919           -0.614351   \n",
      "609  0.162494  0.585642         -0.249613 -1.074499           -0.614351   \n",
      "143 -1.383520 -0.880664         -1.357897  1.717243           -0.614351   \n",
      "\n",
      "     polygonal papules  follicular papules  oral-mucosal involvement  \\\n",
      "525          -0.422059           -0.462962                 -0.407583   \n",
      "344          -0.422059           -0.462962                 -0.407583   \n",
      "369          -0.422059           -0.462962                 -0.407583   \n",
      "609          -0.422059            2.106476                 -0.407583   \n",
      "143          -0.422059           -0.462962                 -0.407583   \n",
      "\n",
      "     knee elbow involvement  scalp involvement  ...  focal hypergranulosis  \\\n",
      "525               -0.585495          -0.447304  ...              -0.423587   \n",
      "344                1.681596           3.652298  ...              -0.423587   \n",
      "369               -0.585495          -0.447304  ...              -0.423587   \n",
      "609                1.681596          -0.447304  ...              -0.423587   \n",
      "143               -0.585495          -0.447304  ...              -0.423587   \n",
      "\n",
      "     disappearance of the granular layer  \\\n",
      "525                            -0.397820   \n",
      "344                             2.513699   \n",
      "369                            -0.397820   \n",
      "609                            -0.397820   \n",
      "143                            -0.397820   \n",
      "\n",
      "     vacuolisation and damage of the basal layer  spongiosis  \\\n",
      "525                                    -0.433397   -0.946847   \n",
      "344                                    -0.433397   -0.946847   \n",
      "369                                    -0.433397    0.958290   \n",
      "609                                    -0.433397   -0.946847   \n",
      "143                                    -0.433397   -0.946847   \n",
      "\n",
      "     saw-tooth appearance of retes  follicular horn plug  \\\n",
      "525                      -0.430128             -0.406736   \n",
      "344                      -0.430128             -0.406736   \n",
      "369                      -0.430128             -0.406736   \n",
      "609                      -0.430128              2.837407   \n",
      "143                      -0.430128             -0.406736   \n",
      "\n",
      "     perifollicular parakeratosis  inflammatory monoluclear infiltrate  \\\n",
      "525                     -0.430792                            -0.977349   \n",
      "344                     -0.430792                            -0.977349   \n",
      "369                     -0.430792                            -0.977349   \n",
      "609                      2.314736                             0.431557   \n",
      "143                     -0.430792                            -0.977349   \n",
      "\n",
      "     band-like infiltrate       age  \n",
      "525             -0.449792  0.109975  \n",
      "344             -0.449792  1.370835  \n",
      "369             -0.449792  0.163397  \n",
      "609             -0.449792 -1.511453  \n",
      "143             -0.449792 -0.346273  \n",
      "\n",
      "[5 rows x 34 columns]\n",
      "\n",
      "Exemplo de y_test (primeiros 5 rótulos):\n",
      "[4 0 1 5 4]\n"
     ]
    }
   ],
   "source": [
    "X_processed, y_encoded, le = preprocess_data_standart_scale(X, y, categorical_cols, numeric_cols)\n",
    "# Dividir em treino e teste\n",
    "X_train, X_test, y_train, y_test = train_test_split(\n",
    "    X_processed, y_encoded, test_size=0.3, random_state=42, stratify=y_encoded\n",
    ")\n",
    "# Exibe as dimensões dos conjuntos de treino e teste\n",
    "print(\"Tamanho do conjunto de treino:\", X_train.shape)\n",
    "print(\"Tamanho do conjunto de teste:\", X_test.shape)\n",
    "print(\"Tamanho dos rótulos de treino:\", y_train.shape)\n",
    "print(\"Tamanho dos rótulos de teste:\", y_test.shape)\n",
    "\n",
    "print(\"\\nExemplo de X_train (primeiras 5 linhas):\")\n",
    "print(X_train[:5])  # Exibe as 5 primeiras linhas de X_train\n",
    "\n",
    "print(\"\\nExemplo de y_train (primeiros 5 rótulos):\")\n",
    "print(y_train[:5])  # Exibe os 5 primeiros rótulos de y_train\n",
    "\n",
    "print(\"\\nExemplo de X_test (primeiras 5 linhas):\")\n",
    "print(X_test[:5])  # Exibe as 5 primeiras linhas de X_test\n",
    "\n",
    "print(\"\\nExemplo de y_test (primeiros 5 rótulos):\")\n",
    "print(y_test[:5])  # Exibe os 5 primeiros rótulos de y_test"
   ]
  },
  {
   "cell_type": "markdown",
   "id": "5cb63cdf-ff9e-4417-afde-404fdfbcaa0d",
   "metadata": {},
   "source": [
    "### Métricas"
   ]
  },
  {
   "cell_type": "code",
   "execution_count": 15,
   "id": "303aef13-d388-408c-82fa-8e477ecf1334",
   "metadata": {},
   "outputs": [
    {
     "name": "stdout",
     "output_type": "stream",
     "text": [
      "Melhores parâmetros encontrados: {'mlp__activation_fn': <class 'torch.nn.modules.activation.LeakyReLU'>, 'mlp__dropout_rate': np.float64(0.19983689107917987), 'mlp__early_stopping': True, 'mlp__hidden_sizes': (128, 64), 'mlp__learning_rate': np.float64(0.006024145688620425), 'mlp__max_epochs': 160, 'mlp__patience': 10, 'mlp__verbose': False, 'mlp__weight_decay': np.float64(0.008609404067363205)}\n",
      "Melhor acurácia: 0.9914436055822466\n",
      "              precision    recall  f1-score   support\n",
      "\n",
      "           1       1.00      1.00      1.00        78\n",
      "           2       0.99      1.00      0.99        78\n",
      "           3       1.00      1.00      1.00        78\n",
      "           4       1.00      0.99      0.99        77\n",
      "           5       1.00      1.00      1.00        77\n",
      "           6       1.00      1.00      1.00        78\n",
      "\n",
      "    accuracy                           1.00       466\n",
      "   macro avg       1.00      1.00      1.00       466\n",
      "weighted avg       1.00      1.00      1.00       466\n",
      "\n"
     ]
    }
   ],
   "source": [
    "random_search = busca_melhores_mlp(X_train, y_train)\n",
    "best_model = random_search.best_estimator_\n",
    "best_params = random_search.best_params_\n",
    "best_score = random_search.best_score_\n",
    "\n",
    "print(\"Melhores parâmetros encontrados:\", best_params)\n",
    "print(\"Melhor acurácia:\", best_score)\n",
    "\n",
    "# Faz predição codificada\n",
    "y_train_pred_encoded = random_search.predict(X_train)\n",
    "\n",
    "# Imprime relatório de classificação com rótulos originais\n",
    "classification_metrics(y_train, y_train_pred_encoded, le)"
   ]
  },
  {
   "cell_type": "code",
   "execution_count": 16,
   "id": "c5933bd2-b8d9-4d42-9379-f1c1afc2f3fb",
   "metadata": {},
   "outputs": [
    {
     "data": {
      "image/png": "[encoded data removed]",
      "text/plain": [
       "<Figure size 640x480 with 2 Axes>"
      ]
     },
     "metadata": {},
     "output_type": "display_data"
    },
    {
     "name": "stdout",
     "output_type": "stream",
     "text": [
      "              precision    recall  f1-score   support\n",
      "\n",
      "           1       1.00      1.00      1.00        33\n",
      "           2       0.91      0.97      0.94        33\n",
      "           3       1.00      1.00      1.00        33\n",
      "           4       0.97      0.91      0.94        34\n",
      "           5       1.00      1.00      1.00        34\n",
      "           6       1.00      1.00      1.00        33\n",
      "\n",
      "    accuracy                           0.98       200\n",
      "   macro avg       0.98      0.98      0.98       200\n",
      "weighted avg       0.98      0.98      0.98       200\n",
      "\n"
     ]
    }
   ],
   "source": [
    "# Predição no teste\n",
    "y_test_pred = random_search.predict(X_test)\n",
    "\n",
    "plot_confusion_matrix(y_test, y_test_pred, le, maior = False, title=\"Matriz de Confusão - Teste\")\n",
    "classification_metrics(y_test, y_test_pred, le)"
   ]
  },
  {
   "cell_type": "code",
   "execution_count": null,
   "id": "e28afd27-c038-4dd8-b0cc-d6534213cda9",
   "metadata": {},
   "outputs": [],
   "source": []
  }
 ],
 "metadata": {
  "kernelspec": {
   "display_name": "Python 3 (ipykernel)",
   "language": "python",
   "name": "python3"
  },
  "language_info": {
   "codemirror_mode": {
    "name": "ipython",
    "version": 3
   },
   "file_extension": ".py",
   "mimetype": "text/x-python",
   "name": "python",
   "nbconvert_exporter": "python",
   "pygments_lexer": "ipython3",
   "version": "3.10.12"
  }
 },
 "nbformat": 4,
 "nbformat_minor": 5
}
