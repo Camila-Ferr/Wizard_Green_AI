{
 "cells": [
  {
   "cell_type": "code",
   "execution_count": 19,
   "id": "d719672b-f334-4890-8091-d343ce5b2f9a",
   "metadata": {
    "scrolled": true
   },
   "outputs": [],
   "source": [
    "import warnings\n",
    "warnings.filterwarnings(\"ignore\")\n",
    "warnings.simplefilter(\"ignore\")"
   ]
  },
  {
   "cell_type": "code",
   "execution_count": 20,
   "id": "cc1069d0-b9f9-4863-97a4-8492204eeb94",
   "metadata": {},
   "outputs": [
    {
     "name": "stdout",
     "output_type": "stream",
     "text": [
      "Defaulting to user installation because normal site-packages is not writeable\n",
      "Requirement already satisfied: ucimlrepo in /home/camilaferreira/.local/lib/python3.10/site-packages (0.0.7)\n",
      "Requirement already satisfied: certifi>=2020.12.5 in /home/camilaferreira/.local/lib/python3.10/site-packages (from ucimlrepo) (2025.4.26)\n",
      "Requirement already satisfied: pandas>=1.0.0 in /home/camilaferreira/.local/lib/python3.10/site-packages (from ucimlrepo) (2.2.3)\n",
      "Requirement already satisfied: tzdata>=2022.7 in /home/camilaferreira/.local/lib/python3.10/site-packages (from pandas>=1.0.0->ucimlrepo) (2025.2)\n",
      "Requirement already satisfied: numpy>=1.22.4 in /home/camilaferreira/.local/lib/python3.10/site-packages (from pandas>=1.0.0->ucimlrepo) (2.2.5)\n",
      "Requirement already satisfied: pytz>=2020.1 in /usr/lib/python3/dist-packages (from pandas>=1.0.0->ucimlrepo) (2022.1)\n",
      "Requirement already satisfied: python-dateutil>=2.8.2 in /home/camilaferreira/.local/lib/python3.10/site-packages (from pandas>=1.0.0->ucimlrepo) (2.9.0.post0)\n",
      "Requirement already satisfied: six>=1.5 in /usr/lib/python3/dist-packages (from python-dateutil>=2.8.2->pandas>=1.0.0->ucimlrepo) (1.16.0)\n",
      "Defaulting to user installation because normal site-packages is not writeable\n",
      "Requirement already satisfied: torch in /home/camilaferreira/.local/lib/python3.10/site-packages (2.7.0)\n",
      "Requirement already satisfied: triton==3.3.0 in /home/camilaferreira/.local/lib/python3.10/site-packages (from torch) (3.3.0)\n",
      "Requirement already satisfied: nvidia-cusolver-cu12==11.7.1.2 in /home/camilaferreira/.local/lib/python3.10/site-packages (from torch) (11.7.1.2)\n",
      "Requirement already satisfied: nvidia-nccl-cu12==2.26.2 in /home/camilaferreira/.local/lib/python3.10/site-packages (from torch) (2.26.2)\n",
      "Requirement already satisfied: nvidia-cublas-cu12==12.6.4.1 in /home/camilaferreira/.local/lib/python3.10/site-packages (from torch) (12.6.4.1)\n",
      "Requirement already satisfied: fsspec in /home/camilaferreira/.local/lib/python3.10/site-packages (from torch) (2025.3.2)\n",
      "Requirement already satisfied: nvidia-cusparselt-cu12==0.6.3 in /home/camilaferreira/.local/lib/python3.10/site-packages (from torch) (0.6.3)\n",
      "Requirement already satisfied: nvidia-cusparse-cu12==12.5.4.2 in /home/camilaferreira/.local/lib/python3.10/site-packages (from torch) (12.5.4.2)\n",
      "Requirement already satisfied: nvidia-nvtx-cu12==12.6.77 in /home/camilaferreira/.local/lib/python3.10/site-packages (from torch) (12.6.77)\n",
      "Requirement already satisfied: sympy>=1.13.3 in /home/camilaferreira/.local/lib/python3.10/site-packages (from torch) (1.14.0)\n",
      "Requirement already satisfied: nvidia-cufft-cu12==11.3.0.4 in /home/camilaferreira/.local/lib/python3.10/site-packages (from torch) (11.3.0.4)\n",
      "Requirement already satisfied: nvidia-cuda-nvrtc-cu12==12.6.77 in /home/camilaferreira/.local/lib/python3.10/site-packages (from torch) (12.6.77)\n",
      "Requirement already satisfied: filelock in /home/camilaferreira/.local/lib/python3.10/site-packages (from torch) (3.18.0)\n",
      "Requirement already satisfied: nvidia-curand-cu12==10.3.7.77 in /home/camilaferreira/.local/lib/python3.10/site-packages (from torch) (10.3.7.77)\n",
      "Requirement already satisfied: nvidia-nvjitlink-cu12==12.6.85 in /home/camilaferreira/.local/lib/python3.10/site-packages (from torch) (12.6.85)\n",
      "Requirement already satisfied: nvidia-cufile-cu12==1.11.1.6 in /home/camilaferreira/.local/lib/python3.10/site-packages (from torch) (1.11.1.6)\n",
      "Requirement already satisfied: nvidia-cudnn-cu12==9.5.1.17 in /home/camilaferreira/.local/lib/python3.10/site-packages (from torch) (9.5.1.17)\n",
      "Requirement already satisfied: jinja2 in /home/camilaferreira/.local/lib/python3.10/site-packages (from torch) (3.1.6)\n",
      "Requirement already satisfied: networkx in /home/camilaferreira/.local/lib/python3.10/site-packages (from torch) (3.4.2)\n",
      "Requirement already satisfied: nvidia-cuda-runtime-cu12==12.6.77 in /home/camilaferreira/.local/lib/python3.10/site-packages (from torch) (12.6.77)\n",
      "Requirement already satisfied: typing-extensions>=4.10.0 in /home/camilaferreira/.local/lib/python3.10/site-packages (from torch) (4.13.2)\n",
      "Requirement already satisfied: nvidia-cuda-cupti-cu12==12.6.80 in /home/camilaferreira/.local/lib/python3.10/site-packages (from torch) (12.6.80)\n",
      "Requirement already satisfied: setuptools>=40.8.0 in /usr/lib/python3/dist-packages (from triton==3.3.0->torch) (59.6.0)\n",
      "Requirement already satisfied: mpmath<1.4,>=1.1.0 in /home/camilaferreira/.local/lib/python3.10/site-packages (from sympy>=1.13.3->torch) (1.3.0)\n",
      "Requirement already satisfied: MarkupSafe>=2.0 in /home/camilaferreira/.local/lib/python3.10/site-packages (from jinja2->torch) (3.0.2)\n",
      "Defaulting to user installation because normal site-packages is not writeable\n",
      "Requirement already satisfied: scikit-learn in /home/camilaferreira/.local/lib/python3.10/site-packages (1.6.1)\n",
      "Requirement already satisfied: numpy>=1.19.5 in /home/camilaferreira/.local/lib/python3.10/site-packages (from scikit-learn) (2.2.5)\n",
      "Requirement already satisfied: threadpoolctl>=3.1.0 in /home/camilaferreira/.local/lib/python3.10/site-packages (from scikit-learn) (3.6.0)\n",
      "Requirement already satisfied: scipy>=1.6.0 in /home/camilaferreira/.local/lib/python3.10/site-packages (from scikit-learn) (1.15.2)\n",
      "Requirement already satisfied: joblib>=1.2.0 in /home/camilaferreira/.local/lib/python3.10/site-packages (from scikit-learn) (1.4.2)\n",
      "Defaulting to user installation because normal site-packages is not writeable\n",
      "Requirement already satisfied: matplotlib in /home/camilaferreira/.local/lib/python3.10/site-packages (3.10.1)\n",
      "Requirement already satisfied: python-dateutil>=2.7 in /home/camilaferreira/.local/lib/python3.10/site-packages (from matplotlib) (2.9.0.post0)\n",
      "Requirement already satisfied: cycler>=0.10 in /home/camilaferreira/.local/lib/python3.10/site-packages (from matplotlib) (0.12.1)\n",
      "Requirement already satisfied: pillow>=8 in /home/camilaferreira/.local/lib/python3.10/site-packages (from matplotlib) (11.2.1)\n",
      "Requirement already satisfied: pyparsing>=2.3.1 in /usr/lib/python3/dist-packages (from matplotlib) (2.4.7)\n",
      "Requirement already satisfied: kiwisolver>=1.3.1 in /home/camilaferreira/.local/lib/python3.10/site-packages (from matplotlib) (1.4.8)\n",
      "Requirement already satisfied: numpy>=1.23 in /home/camilaferreira/.local/lib/python3.10/site-packages (from matplotlib) (2.2.5)\n",
      "Requirement already satisfied: packaging>=20.0 in /home/camilaferreira/.local/lib/python3.10/site-packages (from matplotlib) (25.0)\n",
      "Requirement already satisfied: fonttools>=4.22.0 in /home/camilaferreira/.local/lib/python3.10/site-packages (from matplotlib) (4.57.0)\n",
      "Requirement already satisfied: contourpy>=1.0.1 in /home/camilaferreira/.local/lib/python3.10/site-packages (from matplotlib) (1.3.2)\n",
      "Requirement already satisfied: six>=1.5 in /usr/lib/python3/dist-packages (from python-dateutil>=2.7->matplotlib) (1.16.0)\n",
      "Defaulting to user installation because normal site-packages is not writeable\n",
      "Requirement already satisfied: seaborn in /home/camilaferreira/.local/lib/python3.10/site-packages (0.13.2)\n",
      "Requirement already satisfied: numpy!=1.24.0,>=1.20 in /home/camilaferreira/.local/lib/python3.10/site-packages (from seaborn) (2.2.5)\n",
      "Requirement already satisfied: pandas>=1.2 in /home/camilaferreira/.local/lib/python3.10/site-packages (from seaborn) (2.2.3)\n",
      "Requirement already satisfied: matplotlib!=3.6.1,>=3.4 in /home/camilaferreira/.local/lib/python3.10/site-packages (from seaborn) (3.10.1)\n",
      "Requirement already satisfied: pyparsing>=2.3.1 in /usr/lib/python3/dist-packages (from matplotlib!=3.6.1,>=3.4->seaborn) (2.4.7)\n",
      "Requirement already satisfied: contourpy>=1.0.1 in /home/camilaferreira/.local/lib/python3.10/site-packages (from matplotlib!=3.6.1,>=3.4->seaborn) (1.3.2)\n",
      "Requirement already satisfied: packaging>=20.0 in /home/camilaferreira/.local/lib/python3.10/site-packages (from matplotlib!=3.6.1,>=3.4->seaborn) (25.0)\n",
      "Requirement already satisfied: fonttools>=4.22.0 in /home/camilaferreira/.local/lib/python3.10/site-packages (from matplotlib!=3.6.1,>=3.4->seaborn) (4.57.0)\n",
      "Requirement already satisfied: kiwisolver>=1.3.1 in /home/camilaferreira/.local/lib/python3.10/site-packages (from matplotlib!=3.6.1,>=3.4->seaborn) (1.4.8)\n",
      "Requirement already satisfied: python-dateutil>=2.7 in /home/camilaferreira/.local/lib/python3.10/site-packages (from matplotlib!=3.6.1,>=3.4->seaborn) (2.9.0.post0)\n",
      "Requirement already satisfied: pillow>=8 in /home/camilaferreira/.local/lib/python3.10/site-packages (from matplotlib!=3.6.1,>=3.4->seaborn) (11.2.1)\n",
      "Requirement already satisfied: cycler>=0.10 in /home/camilaferreira/.local/lib/python3.10/site-packages (from matplotlib!=3.6.1,>=3.4->seaborn) (0.12.1)\n",
      "Requirement already satisfied: pytz>=2020.1 in /usr/lib/python3/dist-packages (from pandas>=1.2->seaborn) (2022.1)\n",
      "Requirement already satisfied: tzdata>=2022.7 in /home/camilaferreira/.local/lib/python3.10/site-packages (from pandas>=1.2->seaborn) (2025.2)\n",
      "Requirement already satisfied: six>=1.5 in /usr/lib/python3/dist-packages (from python-dateutil>=2.7->matplotlib!=3.6.1,>=3.4->seaborn) (1.16.0)\n"
     ]
    }
   ],
   "source": [
    "!pip install ucimlrepo\n",
    "!pip install torch\n",
    "!pip install scikit-learn\n",
    "!pip install matplotlib\n",
    "!pip install seaborn\n",
    "\n",
    "import seaborn as sns\n",
    "import matplotlib.pyplot as plt\n",
    "from sklearn.metrics import confusion_matrix\n",
    "from ucimlrepo import fetch_ucirepo \n",
    "import pandas as pd\n",
    "import torch\n",
    "import torch.nn as nn\n",
    "import torch.optim as optim\n",
    "from sklearn.model_selection import train_test_split\n",
    "from sklearn.base import BaseEstimator, ClassifierMixin\n",
    "from sklearn.preprocessing import OneHotEncoder, StandardScaler\n",
    "from sklearn.pipeline import Pipeline\n",
    "from sklearn.model_selection import RandomizedSearchCV\n",
    "from ucimlrepo import fetch_ucirepo\n",
    "import numpy as np\n",
    "from scipy.stats import uniform, randint\n",
    "from sklearn.model_selection import StratifiedKFold\n",
    "from sklearn.metrics import classification_report, accuracy_score\n",
    "from sklearn.model_selection import train_test_split\n",
    "from sklearn.metrics import confusion_matrix, ConfusionMatrixDisplay\n",
    "import matplotlib.pyplot as plt"
   ]
  },
  {
   "cell_type": "code",
   "execution_count": 21,
   "id": "f6f6957d-cc6c-4d8c-b67d-b206c0b57fce",
   "metadata": {},
   "outputs": [],
   "source": [
    "from model_wizard import buscar_melhor_wisard\n",
    "from metricas import plot_confusion_matrix, classification_metrics\n",
    "from tratamento_dados import preprocess_data"
   ]
  },
  {
   "cell_type": "markdown",
   "id": "466df281-a20a-4d3b-9f91-07188ceefb52",
   "metadata": {},
   "source": [
    "## Quinto Dataset"
   ]
  },
  {
   "cell_type": "code",
   "execution_count": 26,
   "id": "a1e49825-7777-4c5e-8b71-19946dc21d08",
   "metadata": {},
   "outputs": [
    {
     "name": "stdout",
     "output_type": "stream",
     "text": [
      "{'uci_id': 33, 'name': 'Dermatology', 'repository_url': 'https://archive.ics.uci.edu/dataset/33/dermatology', 'data_url': 'https://archive.ics.uci.edu/static/public/33/data.csv', 'abstract': 'Aim for this dataset is to determine the type of Eryhemato-Squamous Disease.', 'area': 'Health and Medicine', 'tasks': ['Classification'], 'characteristics': ['Multivariate'], 'num_instances': 366, 'num_features': 34, 'feature_types': ['Categorical', 'Integer'], 'demographics': ['Age'], 'target_col': ['class'], 'index_col': None, 'has_missing_values': 'yes', 'missing_values_symbol': 'NaN', 'year_of_dataset_creation': 1998, 'last_updated': 'Wed Feb 14 2024', 'dataset_doi': '10.24432/C5FK5P', 'creators': ['Nilsel Ilter', 'H. Guvenir'], 'intro_paper': {'ID': 387, 'type': 'NATIVE', 'title': 'Learning differential diagnosis of erythemato-squamous diseases using voting feature intervals', 'authors': 'H. Altay Güvenir, G. Demiröz, N. Ilter', 'venue': 'Artif. Intell. Medicine', 'year': 1998, 'journal': None, 'DOI': None, 'URL': 'https://www.semanticscholar.org/paper/eb371061d34d08b01856f8fe8e66d2a689f3419c', 'sha': None, 'corpus': None, 'arxiv': None, 'mag': None, 'acl': None, 'pmid': '9698151', 'pmcid': None}, 'additional_info': {'summary': 'This database contains 34 attributes, 33 of which are linear valued and one of them is nominal. \\r\\n\\r\\nThe differential diagnosis of erythemato-squamous diseases is a real problem in dermatology. They all share the clinical features of erythema and scaling, with very little differences. The diseases in this group are psoriasis, seboreic dermatitis, lichen planus, pityriasis rosea, cronic dermatitis, and pityriasis rubra pilaris. Usually a biopsy is necessary for the diagnosis but unfortunately these diseases share many histopathological features as well. Another difficulty for the differential diagnosis is that a disease may show the features of another disease at the beginning stage and may have the characteristic features at the following stages. Patients were first evaluated clinically with 12 features. Afterwards, skin samples were taken for the evaluation of 22 histopathological features. The values of the histopathological features are determined by an analysis of the samples under a microscope. \\r\\n\\r\\nIn the dataset constructed for this domain, the family history feature has the value 1 if any of these diseases has been observed in the family, and 0 otherwise. The age feature simply represents the age of the patient. Every other feature (clinical and histopathological) was given a degree in the range of 0 to 3. Here, 0 indicates that the feature was not present, 3 indicates the largest amount possible, and 1, 2 indicate the relative intermediate values.\\r\\n\\r\\nThe names and id numbers of the patients were recently removed from the database.', 'purpose': None, 'funded_by': None, 'instances_represent': None, 'recommended_data_splits': None, 'sensitive_data': None, 'preprocessing_description': None, 'variable_info': '      Clinical Attributes: (take values 0, 1, 2, 3, unless otherwise indicated)\\r\\n      1: erythema\\r\\n      2: scaling\\r\\n      3: definite borders\\r\\n      4: itching\\r\\n      5: koebner phenomenon\\r\\n      6: polygonal papules\\r\\n      7: follicular papules\\r\\n      8: oral mucosal involvement\\r\\n      9: knee and elbow involvement\\r\\n     10: scalp involvement\\r\\n     11: family history, (0 or 1)\\r\\n     34: Age (linear)\\r\\n\\r\\n     Histopathological Attributes: (take values 0, 1, 2, 3)\\r\\n     12: melanin incontinence\\r\\n     13: eosinophils in the infiltrate\\r\\n     14: PNL infiltrate\\r\\n     15: fibrosis of the papillary dermis\\r\\n     16: exocytosis\\r\\n     17: acanthosis\\r\\n     18: hyperkeratosis\\r\\n     19: parakeratosis\\r\\n     20: clubbing of the rete ridges\\r\\n     21: elongation of the rete ridges\\r\\n     22: thinning of the suprapapillary epidermis\\r\\n     23: spongiform pustule\\r\\n     24: munro microabcess\\r\\n     25: focal hypergranulosis\\r\\n     26: disappearance of the granular layer\\r\\n     27: vacuolisation and damage of basal layer\\r\\n     28: spongiosis\\r\\n     29: saw-tooth appearance of retes\\r\\n     30: follicular horn plug\\r\\n     31: perifollicular parakeratosis\\r\\n     32: inflammatory monoluclear inflitrate\\r\\n     33: band-like infiltrate', 'citation': None}}\n",
      "                                           name     role     type demographic  \\\n",
      "0                                      erythema  Feature  Integer        None   \n",
      "1                                       scaling  Feature  Integer        None   \n",
      "2                              definite-borders  Feature  Integer        None   \n",
      "3                                       itching  Feature  Integer        None   \n",
      "4                            koebner phenomenon  Feature  Integer        None   \n",
      "5                             polygonal papules  Feature  Integer        None   \n",
      "6                            follicular papules  Feature  Integer        None   \n",
      "7                      oral-mucosal involvement  Feature  Integer        None   \n",
      "8                        knee elbow involvement  Feature  Integer        None   \n",
      "9                             scalp involvement  Feature  Integer        None   \n",
      "10                               family history  Feature   Binary        None   \n",
      "11                         melanin incontinence  Feature  Integer        None   \n",
      "12                eosinophils in the infiltrate  Feature  Integer        None   \n",
      "13                               pnl infiltrate  Feature  Integer        None   \n",
      "14             fibrosis of the papillary dermis  Feature  Integer        None   \n",
      "15                                   exocytosis  Feature  Integer        None   \n",
      "16                                   acanthosis  Feature  Integer        None   \n",
      "17                               hyperkeratosis  Feature  Integer        None   \n",
      "18                                parakeratosis  Feature  Integer        None   \n",
      "19                  clubbing of the rete ridges  Feature  Integer        None   \n",
      "20                elongation of the rete ridges  Feature  Integer        None   \n",
      "21     thinning of the suprapapillary epidermis  Feature  Integer        None   \n",
      "22                           spongiform pustule  Feature  Integer        None   \n",
      "23                            munro microabcess  Feature  Integer        None   \n",
      "24                        focal hypergranulosis  Feature  Integer        None   \n",
      "25          disappearance of the granular layer  Feature  Integer        None   \n",
      "26  vacuolisation and damage of the basal layer  Feature  Integer        None   \n",
      "27                                   spongiosis  Feature  Integer        None   \n",
      "28                saw-tooth appearance of retes  Feature  Integer        None   \n",
      "29                         follicular horn plug  Feature  Integer        None   \n",
      "30                 perifollicular parakeratosis  Feature  Integer        None   \n",
      "31          inflammatory monoluclear infiltrate  Feature  Integer        None   \n",
      "32                         band-like infiltrate  Feature  Integer        None   \n",
      "33                                          age  Feature  Integer         Age   \n",
      "34                                        class   Target  Integer        None   \n",
      "\n",
      "   description units missing_values  \n",
      "0         None  None             no  \n",
      "1         None  None             no  \n",
      "2         None  None             no  \n",
      "3         None  None             no  \n",
      "4         None  None             no  \n",
      "5         None  None             no  \n",
      "6         None  None             no  \n",
      "7         None  None             no  \n",
      "8         None  None             no  \n",
      "9         None  None             no  \n",
      "10        None  None             no  \n",
      "11        None  None             no  \n",
      "12        None  None             no  \n",
      "13        None  None             no  \n",
      "14        None  None             no  \n",
      "15        None  None             no  \n",
      "16        None  None             no  \n",
      "17        None  None             no  \n",
      "18        None  None             no  \n",
      "19        None  None             no  \n",
      "20        None  None             no  \n",
      "21        None  None             no  \n",
      "22        None  None             no  \n",
      "23        None  None             no  \n",
      "24        None  None             no  \n",
      "25        None  None             no  \n",
      "26        None  None             no  \n",
      "27        None  None             no  \n",
      "28        None  None             no  \n",
      "29        None  None             no  \n",
      "30        None  None             no  \n",
      "31        None  None             no  \n",
      "32        None  None             no  \n",
      "33        None  None            yes  \n",
      "34        None  None             no  \n"
     ]
    }
   ],
   "source": [
    "from ucimlrepo import fetch_ucirepo \n",
    "  \n",
    "# fetch dataset \n",
    "dermatology = fetch_ucirepo(id=33) \n",
    "  \n",
    "# data (as pandas dataframes) \n",
    "X = dermatology.data.features \n",
    "y = dermatology.data.targets \n",
    "  \n",
    "# metadata \n",
    "print(dermatology.metadata) \n",
    "  \n",
    "# variable information \n",
    "print(dermatology.variables) \n"
   ]
  },
  {
   "cell_type": "markdown",
   "id": "84438c5e-0a2e-4b53-ac45-9a303b356e23",
   "metadata": {},
   "source": [
    "### Visualização de datasets"
   ]
  },
  {
   "cell_type": "code",
   "execution_count": 27,
   "id": "5909e1d1-22cb-46a0-bfbb-def786ab2d87",
   "metadata": {},
   "outputs": [
    {
     "name": "stdout",
     "output_type": "stream",
     "text": [
      "Features:\n",
      "   erythema  scaling  definite-borders  itching  koebner phenomenon  \\\n",
      "0         2        2                 0        3                   0   \n",
      "1         3        3                 3        2                   1   \n",
      "2         2        1                 2        3                   1   \n",
      "3         2        2                 2        0                   0   \n",
      "4         2        3                 2        2                   2   \n",
      "\n",
      "   polygonal papules  follicular papules  oral-mucosal involvement  \\\n",
      "0                  0                   0                         0   \n",
      "1                  0                   0                         0   \n",
      "2                  3                   0                         3   \n",
      "3                  0                   0                         0   \n",
      "4                  2                   0                         2   \n",
      "\n",
      "   knee elbow involvement  scalp involvement  ...  focal hypergranulosis  \\\n",
      "0                       1                  0  ...                      0   \n",
      "1                       1                  1  ...                      0   \n",
      "2                       0                  0  ...                      2   \n",
      "3                       3                  2  ...                      0   \n",
      "4                       0                  0  ...                      2   \n",
      "\n",
      "   disappearance of the granular layer  \\\n",
      "0                                    0   \n",
      "1                                    0   \n",
      "2                                    0   \n",
      "3                                    3   \n",
      "4                                    2   \n",
      "\n",
      "   vacuolisation and damage of the basal layer  spongiosis  \\\n",
      "0                                            0           3   \n",
      "1                                            0           0   \n",
      "2                                            2           3   \n",
      "3                                            0           0   \n",
      "4                                            3           2   \n",
      "\n",
      "   saw-tooth appearance of retes  follicular horn plug  \\\n",
      "0                              0                     0   \n",
      "1                              0                     0   \n",
      "2                              2                     0   \n",
      "3                              0                     0   \n",
      "4                              3                     0   \n",
      "\n",
      "   perifollicular parakeratosis  inflammatory monoluclear infiltrate  \\\n",
      "0                             0                                    1   \n",
      "1                             0                                    1   \n",
      "2                             0                                    2   \n",
      "3                             0                                    3   \n",
      "4                             0                                    2   \n",
      "\n",
      "   band-like infiltrate   age  \n",
      "0                     0  55.0  \n",
      "1                     0   8.0  \n",
      "2                     3  26.0  \n",
      "3                     0  40.0  \n",
      "4                     3  45.0  \n",
      "\n",
      "[5 rows x 34 columns]\n",
      "\n",
      "Targets únicos:\n",
      "[1 2 3 4 5 6]\n",
      "\n",
      "Colunas categóricas: []\n",
      "Colunas numéricas: ['erythema', 'scaling', 'definite-borders', 'itching', 'koebner phenomenon', 'polygonal papules', 'follicular papules', 'oral-mucosal involvement', 'knee elbow involvement', 'scalp involvement', 'family history', 'melanin incontinence', 'eosinophils in the infiltrate', 'pnl infiltrate', 'fibrosis of the papillary dermis', 'exocytosis', 'acanthosis', 'hyperkeratosis', 'parakeratosis', 'clubbing of the rete ridges', 'elongation of the rete ridges', 'thinning of the suprapapillary epidermis', 'spongiform pustule', 'munro microabcess', 'focal hypergranulosis', 'disappearance of the granular layer', 'vacuolisation and damage of the basal layer', 'spongiosis', 'saw-tooth appearance of retes', 'follicular horn plug', 'perifollicular parakeratosis', 'inflammatory monoluclear infiltrate', 'band-like infiltrate', 'age']\n"
     ]
    }
   ],
   "source": [
    "import numpy as np\n",
    "print(\"Features:\")\n",
    "print(X.head())\n",
    "print(\"\\nTargets únicos:\")\n",
    "print(np.unique(y))\n",
    "\n",
    "# Identificar colunas categóricas e numéricas\n",
    "categorical_cols = X.select_dtypes(include=['object']).columns.tolist()\n",
    "numeric_cols = X.select_dtypes(include=['number']).columns.tolist()\n",
    "\n",
    "print(\"\\nColunas categóricas:\", categorical_cols)\n",
    "print(\"Colunas numéricas:\", numeric_cols)"
   ]
  },
  {
   "cell_type": "markdown",
   "id": "265d129f-9e1b-4ba0-98af-6f5132ee4fc1",
   "metadata": {},
   "source": [
    "### Tratamento de Dados"
   ]
  },
  {
   "cell_type": "code",
   "execution_count": 29,
   "id": "aa570f1e-cfa1-4047-afc4-b989ea0ebdca",
   "metadata": {},
   "outputs": [
    {
     "name": "stdout",
     "output_type": "stream",
     "text": [
      "X shape original: (366, 34)\n",
      "y shape original: (366,)\n",
      "Apos remoção de NaN, X shape: (358, 34), y shape: (358,)\n",
      "X_processed shape: (358, 272)\n",
      "y_encoded shape: (358,)\n",
      "Tamanho do conjunto de treino: (250, 272)\n",
      "Tamanho do conjunto de teste: (108, 272)\n",
      "Tamanho dos rótulos de treino: (250,)\n",
      "Tamanho dos rótulos de teste: (108,)\n",
      "\n",
      "Exemplo de X_train (primeiras 5 linhas):\n",
      "[[1 1 1 ... 0 0 0]\n",
      " [1 1 1 ... 0 0 0]\n",
      " [1 1 1 ... 0 0 0]\n",
      " [1 1 1 ... 0 0 0]\n",
      " [1 1 1 ... 0 0 0]]\n",
      "\n",
      "Exemplo de y_train (primeiros 5 rótulos):\n",
      "[0 0 1 0 1]\n",
      "\n",
      "Exemplo de X_test (primeiras 5 linhas):\n",
      "[[1 1 1 ... 0 0 0]\n",
      " [1 1 0 ... 0 0 0]\n",
      " [1 1 1 ... 0 0 0]\n",
      " [1 1 1 ... 1 0 0]\n",
      " [1 1 1 ... 0 0 0]]\n",
      "\n",
      "Exemplo de y_test (primeiros 5 rótulos):\n",
      "[1 4 0 0 0]\n"
     ]
    }
   ],
   "source": [
    "print(\"X shape original:\", X.shape)\n",
    "print(\"y shape original:\", y.shape)\n",
    "\n",
    "# Ajusta y se for DataFrame (transforma em Series)\n",
    "if isinstance(y, pd.DataFrame):\n",
    "    y = y.squeeze()\n",
    "\n",
    "# Elimina linhas com NaN em X ou y antes do preprocessamento\n",
    "X_y = X.copy()\n",
    "X_y[\"__target__\"] = y\n",
    "X_y_clean = X_y.dropna()\n",
    "\n",
    "# Separa X e y novamente\n",
    "X_clean = X_y_clean.drop(columns=\"__target__\")\n",
    "y_clean = X_y_clean[\"__target__\"]\n",
    "\n",
    "print(f\"Apos remoção de NaN, X shape: {X_clean.shape}, y shape: {y_clean.shape}\")\n",
    "\n",
    "# Pré-processamento\n",
    "X_processed, y_encoded, le = preprocess_data(X_clean, y_clean, categorical_cols, numeric_cols)\n",
    "\n",
    "print(\"X_processed shape:\", X_processed.shape)\n",
    "print(\"y_encoded shape:\", y_encoded.shape)\n",
    "\n",
    "# Split treino/teste\n",
    "X_train, X_test, y_train, y_test = train_test_split(\n",
    "    X_processed, y_encoded, test_size=0.3, random_state=42, stratify=y_encoded\n",
    ")\n",
    "\n",
    "# Exibe shapes\n",
    "print(\"Tamanho do conjunto de treino:\", X_train.shape)\n",
    "print(\"Tamanho do conjunto de teste:\", X_test.shape)\n",
    "print(\"Tamanho dos rótulos de treino:\", y_train.shape)\n",
    "print(\"Tamanho dos rótulos de teste:\", y_test.shape)\n",
    "\n",
    "# Exibe exemplos\n",
    "print(\"\\nExemplo de X_train (primeiras 5 linhas):\")\n",
    "print(X_train[:5])\n",
    "\n",
    "print(\"\\nExemplo de y_train (primeiros 5 rótulos):\")\n",
    "print(y_train[:5])\n",
    "\n",
    "print(\"\\nExemplo de X_test (primeiras 5 linhas):\")\n",
    "print(X_test[:5])\n",
    "\n",
    "print(\"\\nExemplo de y_test (primeiros 5 rótulos):\")\n",
    "print(y_test[:5])\n"
   ]
  },
  {
   "cell_type": "markdown",
   "id": "a0630283-88e2-44cb-b40e-8d89d6069977",
   "metadata": {},
   "source": [
    "#### Métricas"
   ]
  },
  {
   "cell_type": "code",
   "execution_count": 30,
   "id": "9b87da2c-b6a5-414a-a5aa-34e63787f467",
   "metadata": {},
   "outputs": [
    {
     "name": "stdout",
     "output_type": "stream",
     "text": [
      "Fitting 3 folds for each of 8 candidates, totalling 24 fits\n",
      "Treinando WiSARD com n_classes=6, entry_size=272, tuple_size=8, bleaching=True\n",
      "Melhores parâmetros encontrados: {'wisard__tuple_size': 8, 'wisard__bleaching': True}\n",
      "Melhor acurácia: 0.9641422834193918\n"
     ]
    },
    {
     "data": {
      "image/png": "[encoded data removed]",
      "text/plain": [
       "<Figure size 1200x800 with 2 Axes>"
      ]
     },
     "metadata": {},
     "output_type": "display_data"
    },
    {
     "name": "stdout",
     "output_type": "stream",
     "text": [
      "              precision    recall  f1-score   support\n",
      "\n",
      "           1       1.00      1.00      1.00        77\n",
      "           2       0.79      1.00      0.88        42\n",
      "           3       1.00      1.00      1.00        50\n",
      "           4       1.00      0.67      0.80        33\n",
      "           5       1.00      1.00      1.00        34\n",
      "           6       1.00      1.00      1.00        14\n",
      "\n",
      "    accuracy                           0.96       250\n",
      "   macro avg       0.97      0.94      0.95       250\n",
      "weighted avg       0.97      0.96      0.95       250\n",
      "\n"
     ]
    }
   ],
   "source": [
    "\n",
    "best_model, best_params, best_score, random_search = buscar_melhor_wisard(X_train, y_train)\n",
    "\n",
    "print(\"Melhores parâmetros encontrados:\", best_params)\n",
    "print(\"Melhor acurácia:\", best_score)\n",
    "\n",
    "# Faz predição codificada\n",
    "y_train_pred_encoded = random_search.predict(X_train)\n",
    "\n",
    "# Plota matriz de confusão com labels na vertical\n",
    "plot_confusion_matrix(y_train, y_train_pred_encoded, le, title=\"Matriz de Confusão - Treinamento\")\n",
    "\n",
    "# Imprime relatório de classificação com rótulos originais\n",
    "classification_metrics(y_train, y_train_pred_encoded, le)"
   ]
  },
  {
   "cell_type": "markdown",
   "id": "b81d3145-a0cc-4229-92fe-77ca3ad7dbc9",
   "metadata": {},
   "source": [
    "### Predição"
   ]
  },
  {
   "cell_type": "code",
   "execution_count": 31,
   "id": "ba9462bc-7bb7-4f36-9f86-db8fdd4621fc",
   "metadata": {},
   "outputs": [
    {
     "data": {
      "image/png": "[encoded data removed]",
      "text/plain": [
       "<Figure size 1200x800 with 2 Axes>"
      ]
     },
     "metadata": {},
     "output_type": "display_data"
    },
    {
     "name": "stdout",
     "output_type": "stream",
     "text": [
      "              precision    recall  f1-score   support\n",
      "\n",
      "           1       1.00      1.00      1.00        34\n",
      "           2       0.75      1.00      0.86        18\n",
      "           3       1.00      1.00      1.00        21\n",
      "           4       1.00      0.60      0.75        15\n",
      "           5       1.00      1.00      1.00        14\n",
      "           6       1.00      1.00      1.00         6\n",
      "\n",
      "    accuracy                           0.94       108\n",
      "   macro avg       0.96      0.93      0.93       108\n",
      "weighted avg       0.96      0.94      0.94       108\n",
      "\n"
     ]
    }
   ],
   "source": [
    "# Predição no teste\n",
    "y_test_pred = random_search.predict(X_test)\n",
    "\n",
    "plot_confusion_matrix(y_test, y_test_pred, le, title=\"Matriz de Confusão - Teste\")\n",
    "classification_metrics(y_test, y_test_pred, le)"
   ]
  },
  {
   "cell_type": "code",
   "execution_count": null,
   "id": "e6ad7212-c27d-4d34-9d16-3f86665c52fe",
   "metadata": {},
   "outputs": [],
   "source": []
  }
 ],
 "metadata": {
  "kernelspec": {
   "display_name": "Python 3 (ipykernel)",
   "language": "python",
   "name": "python3"
  },
  "language_info": {
   "codemirror_mode": {
    "name": "ipython",
    "version": 3
   },
   "file_extension": ".py",
   "mimetype": "text/x-python",
   "name": "python",
   "nbconvert_exporter": "python",
   "pygments_lexer": "ipython3",
   "version": "3.10.12"
  }
 },
 "nbformat": 4,
 "nbformat_minor": 5
}
