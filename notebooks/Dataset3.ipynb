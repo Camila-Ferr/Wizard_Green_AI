{
 "cells": [
  {
   "cell_type": "code",
   "execution_count": 1,
   "id": "d719672b-f334-4890-8091-d343ce5b2f9a",
   "metadata": {
    "scrolled": true
   },
   "outputs": [],
   "source": [
    "import warnings\n",
    "warnings.filterwarnings(\"ignore\")\n",
    "warnings.simplefilter(\"ignore\")"
   ]
  },
  {
   "cell_type": "code",
   "execution_count": 2,
   "id": "cc1069d0-b9f9-4863-97a4-8492204eeb94",
   "metadata": {},
   "outputs": [
    {
     "name": "stdout",
     "output_type": "stream",
     "text": [
      "Defaulting to user installation because normal site-packages is not writeable\n",
      "Requirement already satisfied: ucimlrepo in /home/camilaferreira/.local/lib/python3.10/site-packages (0.0.7)\n",
      "Requirement already satisfied: certifi>=2020.12.5 in /home/camilaferreira/.local/lib/python3.10/site-packages (from ucimlrepo) (2025.4.26)\n",
      "Requirement already satisfied: pandas>=1.0.0 in /home/camilaferreira/.local/lib/python3.10/site-packages (from ucimlrepo) (2.2.3)\n",
      "Requirement already satisfied: tzdata>=2022.7 in /home/camilaferreira/.local/lib/python3.10/site-packages (from pandas>=1.0.0->ucimlrepo) (2025.2)\n",
      "Requirement already satisfied: python-dateutil>=2.8.2 in /home/camilaferreira/.local/lib/python3.10/site-packages (from pandas>=1.0.0->ucimlrepo) (2.9.0.post0)\n",
      "Requirement already satisfied: pytz>=2020.1 in /usr/lib/python3/dist-packages (from pandas>=1.0.0->ucimlrepo) (2022.1)\n",
      "Requirement already satisfied: numpy>=1.22.4 in /home/camilaferreira/.local/lib/python3.10/site-packages (from pandas>=1.0.0->ucimlrepo) (2.2.5)\n",
      "Requirement already satisfied: six>=1.5 in /usr/lib/python3/dist-packages (from python-dateutil>=2.8.2->pandas>=1.0.0->ucimlrepo) (1.16.0)\n"
     ]
    }
   ],
   "source": [
    "!pip install ucimlrepo\n",
    "\n",
    "\n",
    "from ucimlrepo import fetch_ucirepo \n",
    "from sklearn.model_selection import train_test_split\n",
    "import sys\n",
    "import os\n",
    "import pandas as pd\n",
    "from sklearn.preprocessing import OneHotEncoder, MinMaxScaler, LabelEncoder,StandardScaler\n",
    "import numpy as np\n"
   ]
  },
  {
   "cell_type": "code",
   "execution_count": 3,
   "id": "f6f6957d-cc6c-4d8c-b67d-b206c0b57fce",
   "metadata": {},
   "outputs": [],
   "source": [
    "# Caminho absoluto para a pasta src\n",
    "src_path = os.path.abspath(os.path.join(os.getcwd(), '..', 'src'))\n",
    "src_path_2 = os.path.abspath(os.path.join(os.getcwd(), '..', 'src/modelos'))\n",
    "sys.path.append(src_path)\n",
    "sys.path.append(src_path_2)\n",
    "\n",
    "from model_wizard import buscar_melhor_wisard\n",
    "from model_mlp import busca_melhores_mlp\n",
    "from tratamento_dados import preprocess_numeric_data_wizard,preprocess_data_standart_scale\n",
    "from metricas import plot_confusion_matrix, classification_metrics\n",
    "from smote import SmoteTransformer"
   ]
  },
  {
   "cell_type": "markdown",
   "id": "466df281-a20a-4d3b-9f91-07188ceefb52",
   "metadata": {},
   "source": [
    "## Terceiro Dataset"
   ]
  },
  {
   "cell_type": "code",
   "execution_count": 4,
   "id": "a1e49825-7777-4c5e-8b71-19946dc21d08",
   "metadata": {},
   "outputs": [
    {
     "name": "stdout",
     "output_type": "stream",
     "text": [
      "{'uci_id': 45, 'name': 'Heart Disease', 'repository_url': 'https://archive.ics.uci.edu/dataset/45/heart+disease', 'data_url': 'https://archive.ics.uci.edu/static/public/45/data.csv', 'abstract': '4 databases: Cleveland, Hungary, Switzerland, and the VA Long Beach', 'area': 'Health and Medicine', 'tasks': ['Classification'], 'characteristics': ['Multivariate'], 'num_instances': 303, 'num_features': 13, 'feature_types': ['Categorical', 'Integer', 'Real'], 'demographics': ['Age', 'Sex'], 'target_col': ['num'], 'index_col': None, 'has_missing_values': 'yes', 'missing_values_symbol': 'NaN', 'year_of_dataset_creation': 1989, 'last_updated': 'Fri Nov 03 2023', 'dataset_doi': '10.24432/C52P4X', 'creators': ['Andras Janosi', 'William Steinbrunn', 'Matthias Pfisterer', 'Robert Detrano'], 'intro_paper': {'ID': 231, 'type': 'NATIVE', 'title': 'International application of a new probability algorithm for the diagnosis of coronary artery disease.', 'authors': 'R. Detrano, A. Jánosi, W. Steinbrunn, M. Pfisterer, J. Schmid, S. Sandhu, K. Guppy, S. Lee, V. Froelicher', 'venue': 'American Journal of Cardiology', 'year': 1989, 'journal': None, 'DOI': None, 'URL': 'https://www.semanticscholar.org/paper/a7d714f8f87bfc41351eb5ae1e5472f0ebbe0574', 'sha': None, 'corpus': None, 'arxiv': None, 'mag': None, 'acl': None, 'pmid': '2756873', 'pmcid': None}, 'additional_info': {'summary': 'This database contains 76 attributes, but all published experiments refer to using a subset of 14 of them.  In particular, the Cleveland database is the only one that has been used by ML researchers to date.  The \"goal\" field refers to the presence of heart disease in the patient.  It is integer valued from 0 (no presence) to 4. Experiments with the Cleveland database have concentrated on simply attempting to distinguish presence (values 1,2,3,4) from absence (value 0).  \\n   \\nThe names and social security numbers of the patients were recently removed from the database, replaced with dummy values.\\n\\nOne file has been \"processed\", that one containing the Cleveland database.  All four unprocessed files also exist in this directory.\\n\\nTo see Test Costs (donated by Peter Turney), please see the folder \"Costs\" ', 'purpose': None, 'funded_by': None, 'instances_represent': None, 'recommended_data_splits': None, 'sensitive_data': None, 'preprocessing_description': None, 'variable_info': 'Only 14 attributes used:\\r\\n      1. #3  (age)       \\r\\n      2. #4  (sex)       \\r\\n      3. #9  (cp)        \\r\\n      4. #10 (trestbps)  \\r\\n      5. #12 (chol)      \\r\\n      6. #16 (fbs)       \\r\\n      7. #19 (restecg)   \\r\\n      8. #32 (thalach)   \\r\\n      9. #38 (exang)     \\r\\n      10. #40 (oldpeak)   \\r\\n      11. #41 (slope)     \\r\\n      12. #44 (ca)        \\r\\n      13. #51 (thal)      \\r\\n      14. #58 (num)       (the predicted attribute)\\r\\n\\r\\nComplete attribute documentation:\\r\\n      1 id: patient identification number\\r\\n      2 ccf: social security number (I replaced this with a dummy value of 0)\\r\\n      3 age: age in years\\r\\n      4 sex: sex (1 = male; 0 = female)\\r\\n      5 painloc: chest pain location (1 = substernal; 0 = otherwise)\\r\\n      6 painexer (1 = provoked by exertion; 0 = otherwise)\\r\\n      7 relrest (1 = relieved after rest; 0 = otherwise)\\r\\n      8 pncaden (sum of 5, 6, and 7)\\r\\n      9 cp: chest pain type\\r\\n        -- Value 1: typical angina\\r\\n        -- Value 2: atypical angina\\r\\n        -- Value 3: non-anginal pain\\r\\n        -- Value 4: asymptomatic\\r\\n     10 trestbps: resting blood pressure (in mm Hg on admission to the hospital)\\r\\n     11 htn\\r\\n     12 chol: serum cholestoral in mg/dl\\r\\n     13 smoke: I believe this is 1 = yes; 0 = no (is or is not a smoker)\\r\\n     14 cigs (cigarettes per day)\\r\\n     15 years (number of years as a smoker)\\r\\n     16 fbs: (fasting blood sugar > 120 mg/dl)  (1 = true; 0 = false)\\r\\n     17 dm (1 = history of diabetes; 0 = no such history)\\r\\n     18 famhist: family history of coronary artery disease (1 = yes; 0 = no)\\r\\n     19 restecg: resting electrocardiographic results\\r\\n        -- Value 0: normal\\r\\n        -- Value 1: having ST-T wave abnormality (T wave inversions and/or ST elevation or depression of > 0.05 mV)\\r\\n        -- Value 2: showing probable or definite left ventricular hypertrophy by Estes\\' criteria\\r\\n     20 ekgmo (month of exercise ECG reading)\\r\\n     21 ekgday(day of exercise ECG reading)\\r\\n     22 ekgyr (year of exercise ECG reading)\\r\\n     23 dig (digitalis used furing exercise ECG: 1 = yes; 0 = no)\\r\\n     24 prop (Beta blocker used during exercise ECG: 1 = yes; 0 = no)\\r\\n     25 nitr (nitrates used during exercise ECG: 1 = yes; 0 = no)\\r\\n     26 pro (calcium channel blocker used during exercise ECG: 1 = yes; 0 = no)\\r\\n     27 diuretic (diuretic used used during exercise ECG: 1 = yes; 0 = no)\\r\\n     28 proto: exercise protocol\\r\\n          1 = Bruce     \\r\\n          2 = Kottus\\r\\n          3 = McHenry\\r\\n          4 = fast Balke\\r\\n          5 = Balke\\r\\n          6 = Noughton \\r\\n          7 = bike 150 kpa min/min  (Not sure if \"kpa min/min\" is what was written!)\\r\\n          8 = bike 125 kpa min/min  \\r\\n          9 = bike 100 kpa min/min\\r\\n         10 = bike 75 kpa min/min\\r\\n         11 = bike 50 kpa min/min\\r\\n         12 = arm ergometer\\r\\n     29 thaldur: duration of exercise test in minutes\\r\\n     30 thaltime: time when ST measure depression was noted\\r\\n     31 met: mets achieved\\r\\n     32 thalach: maximum heart rate achieved\\r\\n     33 thalrest: resting heart rate\\r\\n     34 tpeakbps: peak exercise blood pressure (first of 2 parts)\\r\\n     35 tpeakbpd: peak exercise blood pressure (second of 2 parts)\\r\\n     36 dummy\\r\\n     37 trestbpd: resting blood pressure\\r\\n     38 exang: exercise induced angina (1 = yes; 0 = no)\\r\\n     39 xhypo: (1 = yes; 0 = no)\\r\\n     40 oldpeak = ST depression induced by exercise relative to rest\\r\\n     41 slope: the slope of the peak exercise ST segment\\r\\n        -- Value 1: upsloping\\r\\n        -- Value 2: flat\\r\\n        -- Value 3: downsloping\\r\\n     42 rldv5: height at rest\\r\\n     43 rldv5e: height at peak exercise\\r\\n     44 ca: number of major vessels (0-3) colored by flourosopy\\r\\n     45 restckm: irrelevant\\r\\n     46 exerckm: irrelevant\\r\\n     47 restef: rest raidonuclid (sp?) ejection fraction\\r\\n     48 restwm: rest wall (sp?) motion abnormality\\r\\n        0 = none\\r\\n        1 = mild or moderate\\r\\n        2 = moderate or severe\\r\\n        3 = akinesis or dyskmem (sp?)\\r\\n     49 exeref: exercise radinalid (sp?) ejection fraction\\r\\n     50 exerwm: exercise wall (sp?) motion \\r\\n     51 thal: 3 = normal; 6 = fixed defect; 7 = reversable defect\\r\\n     52 thalsev: not used\\r\\n     53 thalpul: not used\\r\\n     54 earlobe: not used\\r\\n     55 cmo: month of cardiac cath (sp?)  (perhaps \"call\")\\r\\n     56 cday: day of cardiac cath (sp?)\\r\\n     57 cyr: year of cardiac cath (sp?)\\r\\n     58 num: diagnosis of heart disease (angiographic disease status)\\r\\n        -- Value 0: < 50% diameter narrowing\\r\\n        -- Value 1: > 50% diameter narrowing\\r\\n        (in any major vessel: attributes 59 through 68 are vessels)\\r\\n     59 lmt\\r\\n     60 ladprox\\r\\n     61 laddist\\r\\n     62 diag\\r\\n     63 cxmain\\r\\n     64 ramus\\r\\n     65 om1\\r\\n     66 om2\\r\\n     67 rcaprox\\r\\n     68 rcadist\\r\\n     69 lvx1: not used\\r\\n     70 lvx2: not used\\r\\n     71 lvx3: not used\\r\\n     72 lvx4: not used\\r\\n     73 lvf: not used\\r\\n     74 cathef: not used\\r\\n     75 junk: not used\\r\\n     76 name: last name of patient  (I replaced this with the dummy string \"name\")', 'citation': None}}\n",
      "        name     role         type demographic  \\\n",
      "0        age  Feature      Integer         Age   \n",
      "1        sex  Feature  Categorical         Sex   \n",
      "2         cp  Feature  Categorical        None   \n",
      "3   trestbps  Feature      Integer        None   \n",
      "4       chol  Feature      Integer        None   \n",
      "5        fbs  Feature  Categorical        None   \n",
      "6    restecg  Feature  Categorical        None   \n",
      "7    thalach  Feature      Integer        None   \n",
      "8      exang  Feature  Categorical        None   \n",
      "9    oldpeak  Feature      Integer        None   \n",
      "10     slope  Feature  Categorical        None   \n",
      "11        ca  Feature      Integer        None   \n",
      "12      thal  Feature  Categorical        None   \n",
      "13       num   Target      Integer        None   \n",
      "\n",
      "                                          description  units missing_values  \n",
      "0                                                None  years             no  \n",
      "1                                                None   None             no  \n",
      "2                                                None   None             no  \n",
      "3   resting blood pressure (on admission to the ho...  mm Hg             no  \n",
      "4                                   serum cholestoral  mg/dl             no  \n",
      "5                     fasting blood sugar > 120 mg/dl   None             no  \n",
      "6                                                None   None             no  \n",
      "7                         maximum heart rate achieved   None             no  \n",
      "8                             exercise induced angina   None             no  \n",
      "9   ST depression induced by exercise relative to ...   None             no  \n",
      "10                                               None   None             no  \n",
      "11  number of major vessels (0-3) colored by flour...   None            yes  \n",
      "12                                               None   None            yes  \n",
      "13                         diagnosis of heart disease   None             no  \n",
      "Targets:\n",
      "[0 2 1 3 4]\n"
     ]
    }
   ],
   "source": [
    "from ucimlrepo import fetch_ucirepo \n",
    "  \n",
    "# fetch dataset \n",
    "heart_disease = fetch_ucirepo(id=45) \n",
    "  \n",
    "# data (as pandas dataframes) \n",
    "X = heart_disease.data.features \n",
    "y = heart_disease.data.targets \n",
    "  \n",
    "# metadata \n",
    "print(heart_disease.metadata) \n",
    "  \n",
    "# variable information \n",
    "print(heart_disease.variables) \n",
    "\n",
    "print (\"Targets:\")\n",
    "print(y[y.columns[0]].unique())"
   ]
  },
  {
   "cell_type": "markdown",
   "id": "84438c5e-0a2e-4b53-ac45-9a303b356e23",
   "metadata": {},
   "source": [
    "### Visualização de datasets"
   ]
  },
  {
   "cell_type": "code",
   "execution_count": 5,
   "id": "5909e1d1-22cb-46a0-bfbb-def786ab2d87",
   "metadata": {},
   "outputs": [
    {
     "name": "stdout",
     "output_type": "stream",
     "text": [
      "Features:\n",
      "   age  sex  cp  trestbps  chol  fbs  restecg  thalach  exang  oldpeak  slope  \\\n",
      "0   63    1   1       145   233    1        2      150      0      2.3      3   \n",
      "1   67    1   4       160   286    0        2      108      1      1.5      2   \n",
      "2   67    1   4       120   229    0        2      129      1      2.6      2   \n",
      "3   37    1   3       130   250    0        0      187      0      3.5      3   \n",
      "4   41    0   2       130   204    0        2      172      0      1.4      1   \n",
      "\n",
      "    ca  thal  \n",
      "0  0.0   6.0  \n",
      "1  3.0   3.0  \n",
      "2  2.0   7.0  \n",
      "3  0.0   3.0  \n",
      "4  0.0   3.0  \n",
      "\n",
      "Targets:\n",
      "     num\n",
      "0      0\n",
      "1      2\n",
      "2      1\n",
      "3      0\n",
      "4      0\n",
      "..   ...\n",
      "298    1\n",
      "299    2\n",
      "300    3\n",
      "301    1\n",
      "302    0\n",
      "\n",
      "[303 rows x 1 columns]\n",
      "\n",
      "Colunas categóricas: []\n",
      "Colunas numéricas: ['age', 'sex', 'cp', 'trestbps', 'chol', 'fbs', 'restecg', 'thalach', 'exang', 'oldpeak', 'slope', 'ca', 'thal']\n"
     ]
    }
   ],
   "source": [
    "print(\"Features:\")\n",
    "print(X.head())\n",
    "print(\"\\nTargets:\")\n",
    "print(y)\n",
    "\n",
    "# Identificar colunas categóricas e numéricas\n",
    "categorical_cols = X.select_dtypes(include=['object']).columns.tolist()\n",
    "numeric_cols = X.select_dtypes(include=['number']).columns.tolist()\n",
    "\n",
    "print(\"\\nColunas categóricas:\", categorical_cols)\n",
    "print(\"Colunas numéricas:\", numeric_cols)"
   ]
  },
  {
   "cell_type": "markdown",
   "id": "265d129f-9e1b-4ba0-98af-6f5132ee4fc1",
   "metadata": {},
   "source": [
    "### Tratamento de Dados"
   ]
  },
  {
   "cell_type": "code",
   "execution_count": 18,
   "id": "d0785909-296c-44a2-a708-3c28ab9b8f43",
   "metadata": {},
   "outputs": [
    {
     "name": "stdout",
     "output_type": "stream",
     "text": [
      "\n",
      "Tamanho do conjunto após SMOTE: (800, 13)\n",
      "Tamanho dos rótulos  após SMOTE: (800, 1)\n"
     ]
    }
   ],
   "source": [
    "# Inicializa o SMOTE transformer\n",
    "smote_transformer = SmoteTransformer(random_state=42)\n",
    "\n",
    "# Aplica SMOTE\n",
    "X, y = smote_transformer.fit_transform(X, y)\n",
    "\n",
    "# Mostra as dimensões após SMOTE\n",
    "print(\"\\nTamanho do conjunto após SMOTE:\", X.shape)\n",
    "print(\"Tamanho dos rótulos  após SMOTE:\", y.shape)"
   ]
  },
  {
   "cell_type": "code",
   "execution_count": 19,
   "id": "aa570f1e-cfa1-4047-afc4-b989ea0ebdca",
   "metadata": {},
   "outputs": [
    {
     "name": "stdout",
     "output_type": "stream",
     "text": [
      "Tamanho do conjunto de treino: (560, 104)\n",
      "Tamanho do conjunto de teste: (240, 104)\n",
      "Tamanho dos rótulos de treino: (560,)\n",
      "Tamanho dos rótulos de teste: (240,)\n",
      "\n",
      "Exemplo de X_train (primeiras 5 linhas):\n",
      "[[1 1 1 1 0 0 0 0 0 0 0 0 0 0 0 0 1 1 1 1 1 0 0 0 1 1 1 0 0 0 0 0 1 1 1 1\n",
      "  0 0 0 0 0 0 0 0 0 0 0 0 0 0 0 0 0 0 0 0 1 1 1 0 0 0 0 0 0 0 0 0 0 0 0 0\n",
      "  1 0 0 0 0 0 0 0 0 0 0 0 0 0 0 0 1 1 1 0 0 0 0 0 1 1 1 1 1 1 0 0]\n",
      " [1 1 1 1 1 0 0 0 1 1 1 1 1 1 1 0 1 1 1 1 1 0 0 0 1 1 1 1 0 0 0 0 1 1 0 0\n",
      "  0 0 0 0 1 1 1 1 1 1 1 0 0 0 0 0 0 0 0 0 1 1 1 1 0 0 0 0 1 1 1 1 1 1 1 0\n",
      "  1 0 0 0 0 0 0 0 1 1 1 1 0 0 0 0 0 0 0 0 0 0 0 0 0 0 0 0 0 0 0 0]\n",
      " [1 1 1 1 0 0 0 0 1 1 1 1 1 1 1 0 1 1 1 1 1 0 0 0 1 1 0 0 0 0 0 0 1 1 0 0\n",
      "  0 0 0 0 0 0 0 0 0 0 0 0 1 1 1 1 1 1 1 0 1 1 1 1 0 0 0 0 0 0 0 0 0 0 0 0\n",
      "  1 1 1 0 0 0 0 0 1 1 1 1 0 0 0 0 1 1 0 0 0 0 0 0 1 1 1 1 1 1 1 0]\n",
      " [1 1 0 0 0 0 0 0 1 1 1 1 1 1 1 0 1 1 0 0 0 0 0 0 1 1 0 0 0 0 0 0 1 1 0 0\n",
      "  0 0 0 0 0 0 0 0 0 0 0 0 0 0 0 0 0 0 0 0 1 1 1 1 1 0 0 0 0 0 0 0 0 0 0 0\n",
      "  0 0 0 0 0 0 0 0 0 0 0 0 0 0 0 0 0 0 0 0 0 0 0 0 0 0 0 0 0 0 0 0]\n",
      " [1 0 0 0 0 0 0 0 1 1 1 1 1 1 1 0 0 0 0 0 0 0 0 0 1 1 0 0 0 0 0 0 1 1 0 0\n",
      "  0 0 0 0 0 0 0 0 0 0 0 0 0 0 0 0 0 0 0 0 1 1 1 1 1 1 0 0 1 1 1 1 1 1 1 0\n",
      "  1 1 1 1 0 0 0 0 1 1 1 1 0 0 0 0 0 0 0 0 0 0 0 0 1 1 1 1 1 1 1 0]]\n",
      "\n",
      "Exemplo de y_train (primeiros 5 rótulos):\n",
      "[3 0 4 0 4]\n",
      "\n",
      "Exemplo de X_test (primeiras 5 linhas):\n",
      "[[1 1 1 0 0 0 0 0 0 0 0 0 0 0 0 0 1 1 1 1 1 1 1 0 1 1 1 0 0 0 0 0 1 1 1 0\n",
      "  0 0 0 0 0 0 0 0 0 0 0 0 0 0 0 0 0 0 0 0 1 1 0 0 0 0 0 0 0 0 0 0 0 0 0 0\n",
      "  1 1 0 0 0 0 0 0 1 1 1 1 0 0 0 0 1 1 1 0 0 0 0 0 1 1 1 0 0 0 0 0]\n",
      " [1 1 1 1 1 0 0 0 1 1 1 1 1 1 1 0 1 1 1 1 1 1 1 0 1 1 0 0 0 0 0 0 1 1 0 0\n",
      "  0 0 0 0 1 1 1 1 1 1 1 0 0 0 0 0 0 0 0 0 1 1 1 1 1 0 0 0 1 1 1 1 1 1 1 0\n",
      "  1 1 0 0 0 0 0 0 0 0 0 0 0 0 0 0 1 1 1 1 1 0 0 0 1 1 1 1 1 1 1 0]\n",
      " [1 1 1 1 0 0 0 0 1 1 1 1 1 1 1 0 1 1 1 1 1 1 1 0 1 1 1 1 1 0 0 0 1 0 0 0\n",
      "  0 0 0 0 1 1 1 1 1 1 1 0 1 1 1 1 1 1 1 0 1 0 0 0 0 0 0 0 0 0 0 0 0 0 0 0\n",
      "  1 0 0 0 0 0 0 0 1 1 1 1 0 0 0 0 1 1 1 1 1 0 0 0 1 1 1 1 1 0 0 0]\n",
      " [1 1 1 0 0 0 0 0 0 0 0 0 0 0 0 0 1 1 0 0 0 0 0 0 1 1 1 0 0 0 0 0 1 1 0 0\n",
      "  0 0 0 0 0 0 0 0 0 0 0 0 0 0 0 0 0 0 0 0 1 1 1 1 1 0 0 0 0 0 0 0 0 0 0 0\n",
      "  0 0 0 0 0 0 0 0 1 1 1 1 0 0 0 0 0 0 0 0 0 0 0 0 0 0 0 0 0 0 0 0]\n",
      " [1 1 1 1 0 0 0 0 1 1 1 1 1 1 1 0 1 1 1 1 1 0 0 0 1 1 0 0 0 0 0 0 1 1 0 0\n",
      "  0 0 0 0 0 0 0 0 0 0 0 0 1 1 1 1 0 0 0 0 1 1 1 1 0 0 0 0 0 0 0 0 0 0 0 0\n",
      "  1 0 0 0 0 0 0 0 1 1 1 1 0 0 0 0 1 1 0 0 0 0 0 0 1 1 1 1 1 1 1 0]]\n",
      "\n",
      "Exemplo de y_test (primeiros 5 rótulos):\n",
      "[2 2 3 0 1]\n"
     ]
    }
   ],
   "source": [
    "# Converta X_train em DataFrame se estiver em array\n",
    "if isinstance(X, np.ndarray):\n",
    "    X = pd.DataFrame(X, columns=[f'feature_{i}' for i in range(X_train.shape[1])])\n",
    "else:\n",
    "    X= X.copy()\n",
    "    \n",
    "# Remove linhas com NaN antes do processamento\n",
    "X_clean = X.dropna(subset=numeric_cols)\n",
    "y_clean = y.loc[X_clean.index]\n",
    "\n",
    "# Processa os dados\n",
    "X_processed, y_encoded, le = preprocess_numeric_data_wizard(X_clean, y_clean, numeric_cols)\n",
    "\n",
    "# Dividir em treino e teste\n",
    "X_train, X_test, y_train, y_test = train_test_split(\n",
    "    X_processed, y_encoded, test_size=0.3, random_state=42, stratify=y_encoded\n",
    ")\n",
    "\n",
    "# Exibe as dimensões dos conjuntos de treino e teste\n",
    "print(\"Tamanho do conjunto de treino:\", X_train.shape)\n",
    "print(\"Tamanho do conjunto de teste:\", X_test.shape)\n",
    "print(\"Tamanho dos rótulos de treino:\", y_train.shape)\n",
    "print(\"Tamanho dos rótulos de teste:\", y_test.shape)\n",
    "\n",
    "print(\"\\nExemplo de X_train (primeiras 5 linhas):\")\n",
    "print(X_train[:5])\n",
    "\n",
    "print(\"\\nExemplo de y_train (primeiros 5 rótulos):\")\n",
    "print(y_train[:5])\n",
    "\n",
    "print(\"\\nExemplo de X_test (primeiras 5 linhas):\")\n",
    "print(X_test[:5])\n",
    "\n",
    "print(\"\\nExemplo de y_test (primeiros 5 rótulos):\")\n",
    "print(y_test[:5])\n"
   ]
  },
  {
   "cell_type": "markdown",
   "id": "a0630283-88e2-44cb-b40e-8d89d6069977",
   "metadata": {},
   "source": [
    "#### Métricas"
   ]
  },
  {
   "cell_type": "code",
   "execution_count": 20,
   "id": "9b87da2c-b6a5-414a-a5aa-34e63787f467",
   "metadata": {},
   "outputs": [
    {
     "name": "stdout",
     "output_type": "stream",
     "text": [
      "Melhores parâmetros encontrados: {'wisard__tuple_size': 11, 'wisard__bleaching': False}\n",
      "Acurácia média na CV: 0.6017671975926245\n",
      "              precision    recall  f1-score   support\n",
      "\n",
      "           0       0.82      1.00      0.90       112\n",
      "           1       0.74      0.82      0.78       112\n",
      "           2       0.81      0.90      0.86       112\n",
      "           3       0.87      0.79      0.83       112\n",
      "           4       1.00      0.65      0.79       112\n",
      "\n",
      "    accuracy                           0.83       560\n",
      "   macro avg       0.85      0.83      0.83       560\n",
      "weighted avg       0.85      0.83      0.83       560\n",
      "\n"
     ]
    }
   ],
   "source": [
    "\n",
    "best_model, best_params, best_score, random_search = buscar_melhor_wisard(X_train, y_train)\n",
    "\n",
    "print(\"Melhores parâmetros encontrados:\", best_params)\n",
    "print(\"Acurácia média na CV:\", best_score)\n",
    "\n",
    "# Faz predição codificada\n",
    "y_train_pred_encoded = random_search.predict(X_train)\n",
    "\n",
    "# Imprime relatório de classificação com rótulos originais\n",
    "classification_metrics(y_train, y_train_pred_encoded, le)"
   ]
  },
  {
   "cell_type": "markdown",
   "id": "b81d3145-a0cc-4229-92fe-77ca3ad7dbc9",
   "metadata": {},
   "source": [
    "### Predição"
   ]
  },
  {
   "cell_type": "code",
   "execution_count": 21,
   "id": "ba9462bc-7bb7-4f36-9f86-db8fdd4621fc",
   "metadata": {},
   "outputs": [
    {
     "data": {
      "image/png": "[encoded data removed]",
      "text/plain": [
       "<Figure size 640x480 with 2 Axes>"
      ]
     },
     "metadata": {},
     "output_type": "display_data"
    },
    {
     "name": "stdout",
     "output_type": "stream",
     "text": [
      "              precision    recall  f1-score   support\n",
      "\n",
      "           0       0.68      0.88      0.76        48\n",
      "           1       0.41      0.42      0.41        48\n",
      "           2       0.52      0.69      0.59        48\n",
      "           3       0.59      0.56      0.57        48\n",
      "           4       0.89      0.35      0.51        48\n",
      "\n",
      "    accuracy                           0.58       240\n",
      "   macro avg       0.62      0.58      0.57       240\n",
      "weighted avg       0.62      0.58      0.57       240\n",
      "\n"
     ]
    }
   ],
   "source": [
    "# Predição no teste\n",
    "y_test_pred = random_search.predict(X_test)\n",
    "\n",
    "plot_confusion_matrix(y_test, y_test_pred, le, maior = False, title=\"Matriz de Confusão - Teste\")\n",
    "classification_metrics(y_test, y_test_pred, le)"
   ]
  },
  {
   "cell_type": "markdown",
   "id": "b882e26a-bd61-4bd8-b0ca-8a0f96f07772",
   "metadata": {},
   "source": [
    "## MLP"
   ]
  },
  {
   "cell_type": "markdown",
   "id": "fe54d057-8fc9-487f-86e8-26346519907e",
   "metadata": {},
   "source": [
    "### Tratamento de Dados"
   ]
  },
  {
   "cell_type": "code",
   "execution_count": 23,
   "id": "e175d7ca-2d3c-4166-ae87-7fb231b925dc",
   "metadata": {},
   "outputs": [
    {
     "name": "stdout",
     "output_type": "stream",
     "text": [
      "\n",
      "Tamanho do conjunto após SMOTE: (800, 13)\n",
      "Tamanho dos rótulos  após SMOTE: (800, 1)\n"
     ]
    }
   ],
   "source": [
    "# Inicializa o SMOTE transformer\n",
    "smote_transformer = SmoteTransformer(random_state=42)\n",
    "\n",
    "# Aplica SMOTE\n",
    "X, y = smote_transformer.fit_transform(X, y)\n",
    "\n",
    "# Mostra as dimensões após SMOTE\n",
    "print(\"\\nTamanho do conjunto após SMOTE:\", X.shape)\n",
    "print(\"Tamanho dos rótulos  após SMOTE:\", y.shape)"
   ]
  },
  {
   "cell_type": "code",
   "execution_count": 24,
   "id": "1b15f244-6ffa-41c6-9bd0-f4f1aa4678c3",
   "metadata": {},
   "outputs": [
    {
     "name": "stdout",
     "output_type": "stream",
     "text": [
      "Tamanho do conjunto de treino: (560, 13)\n",
      "Tamanho do conjunto de teste: (240, 13)\n",
      "Tamanho dos rótulos de treino: (560,)\n",
      "Tamanho dos rótulos de teste: (240,)\n",
      "\n",
      "Exemplo de X_train (primeiras 5 linhas):\n",
      "          age       sex        cp  trestbps      chol       fbs   restecg  \\\n",
      "553 -0.112538 -1.437057 -0.440700 -0.086144  2.060813 -0.255434 -1.087998   \n",
      "39   0.636678  0.695866 -0.440700  1.058199 -0.072192  3.914911 -1.087998   \n",
      "754 -0.112538  0.695866 -0.440700 -0.721889 -0.275335 -0.255434  1.129577   \n",
      "127 -1.486101  0.695866 -1.596636 -0.849039 -0.539422 -0.255434 -1.087998   \n",
      "208 -2.235317  0.695866 -2.752571 -0.849039 -0.315964 -0.255434 -1.087998   \n",
      "\n",
      "      thalach     exang   oldpeak     slope        ca      thal  \n",
      "553 -0.370045 -0.656603 -0.422665 -1.275092  0.062327  0.559253  \n",
      "39  -0.224358  1.522991 -0.468884  0.628031 -1.094451 -1.501214  \n",
      "754  0.601202 -0.656603  0.851282  0.628031 -0.351738  0.845794  \n",
      "127  1.378201 -0.656603 -1.332892 -1.275092 -1.094451 -1.501214  \n",
      "208  1.960950  1.522991  1.950338  0.628031 -1.094451  0.845794  \n",
      "\n",
      "Exemplo de y_train (primeiros 5 rótulos):\n",
      "[3 0 4 0 4]\n",
      "\n",
      "Exemplo de X_test (primeiras 5 linhas):\n",
      "          age       sex        cp  trestbps      chol       fbs   restecg  \\\n",
      "414 -0.612016 -1.437057  0.715235  0.168155  1.187296 -0.255434 -1.087998   \n",
      "31   0.511808  0.695866  0.715235 -1.039762 -0.336278  3.914911 -1.087998   \n",
      "291  0.386939  0.695866  0.715235  1.948243 -1.433252  3.914911  1.129577   \n",
      "235 -0.861755 -1.437057 -1.596636  0.041006  0.496609 -0.255434 -1.087998   \n",
      "401 -0.112538  0.695866 -0.440700 -0.149718 -0.336278 -0.255434  0.020790   \n",
      "\n",
      "      thalach     exang   oldpeak     slope        ca      thal  \n",
      "414 -1.244169 -0.656603  0.262080  0.628031  0.328705 -0.550955  \n",
      "31   0.892577  1.522991 -0.123281 -1.275092  0.967381  0.845794  \n",
      "291 -2.506791 -0.656603 -0.468884  0.628031  0.967381  0.259042  \n",
      "235  0.989702 -0.656603 -1.332892  0.628031 -1.094451 -1.501214  \n",
      "401  0.552640 -0.656603 -0.938227  0.628031 -0.063535  0.845794  \n",
      "\n",
      "Exemplo de y_test (primeiros 5 rótulos):\n",
      "[2 2 3 0 1]\n"
     ]
    }
   ],
   "source": [
    "X_processed, y_encoded, le = preprocess_data_standart_scale(X, y, categorical_cols, numeric_cols)\n",
    "# Dividir em treino e teste\n",
    "X_train, X_test, y_train, y_test = train_test_split(\n",
    "    X_processed, y_encoded, test_size=0.3, random_state=42, stratify=y_encoded\n",
    ")\n",
    "# Exibe as dimensões dos conjuntos de treino e teste\n",
    "print(\"Tamanho do conjunto de treino:\", X_train.shape)\n",
    "print(\"Tamanho do conjunto de teste:\", X_test.shape)\n",
    "print(\"Tamanho dos rótulos de treino:\", y_train.shape)\n",
    "print(\"Tamanho dos rótulos de teste:\", y_test.shape)\n",
    "\n",
    "print(\"\\nExemplo de X_train (primeiras 5 linhas):\")\n",
    "print(X_train[:5])  # Exibe as 5 primeiras linhas de X_train\n",
    "\n",
    "print(\"\\nExemplo de y_train (primeiros 5 rótulos):\")\n",
    "print(y_train[:5])  # Exibe os 5 primeiros rótulos de y_train\n",
    "\n",
    "print(\"\\nExemplo de X_test (primeiras 5 linhas):\")\n",
    "print(X_test[:5])  # Exibe as 5 primeiras linhas de X_test\n",
    "\n",
    "print(\"\\nExemplo de y_test (primeiros 5 rótulos):\")\n",
    "print(y_test[:5])  # Exibe os 5 primeiros rótulos de y_test"
   ]
  },
  {
   "cell_type": "markdown",
   "id": "63d33dfd-60e8-49bf-ba58-602c61cb0549",
   "metadata": {},
   "source": [
    "### Métricas"
   ]
  },
  {
   "cell_type": "code",
   "execution_count": 25,
   "id": "ecd74bbe-a65b-47dd-a8c0-143e285f10cb",
   "metadata": {},
   "outputs": [
    {
     "name": "stdout",
     "output_type": "stream",
     "text": [
      "Melhores parâmetros encontrados: {'mlp__activation_fn': <class 'torch.nn.modules.activation.ReLU'>, 'mlp__dropout_rate': np.float64(0.13547045849996384), 'mlp__early_stopping': True, 'mlp__hidden_sizes': (128, 64), 'mlp__learning_rate': np.float64(0.008966171489506599), 'mlp__max_epochs': 172, 'mlp__patience': 10, 'mlp__verbose': False, 'mlp__weight_decay': np.float64(0.00376582952639944)}\n",
      "Melhor acurácia: 0.7642857142857145\n",
      "              precision    recall  f1-score   support\n",
      "\n",
      "           0       0.86      0.86      0.86       112\n",
      "           1       0.83      0.77      0.80       112\n",
      "           2       0.90      0.94      0.92       112\n",
      "           3       0.90      0.93      0.92       112\n",
      "           4       0.96      0.97      0.96       112\n",
      "\n",
      "    accuracy                           0.89       560\n",
      "   macro avg       0.89      0.89      0.89       560\n",
      "weighted avg       0.89      0.89      0.89       560\n",
      "\n"
     ]
    }
   ],
   "source": [
    "random_search = busca_melhores_mlp(X_train, y_train)\n",
    "best_model = random_search.best_estimator_\n",
    "best_params = random_search.best_params_\n",
    "best_score = random_search.best_score_\n",
    "\n",
    "print(\"Melhores parâmetros encontrados:\", best_params)\n",
    "print(\"Melhor acurácia:\", best_score)\n",
    "\n",
    "# Faz predição codificada\n",
    "y_train_pred_encoded = random_search.predict(X_train)\n",
    "\n",
    "# Imprime relatório de classificação com rótulos originais\n",
    "classification_metrics(y_train, y_train_pred_encoded, le)"
   ]
  },
  {
   "cell_type": "code",
   "execution_count": 26,
   "id": "264fc73a-e627-4825-a9bd-472606e6f906",
   "metadata": {},
   "outputs": [
    {
     "data": {
      "image/png": "[encoded data removed]",
      "text/plain": [
       "<Figure size 640x480 with 2 Axes>"
      ]
     },
     "metadata": {},
     "output_type": "display_data"
    },
    {
     "name": "stdout",
     "output_type": "stream",
     "text": [
      "              precision    recall  f1-score   support\n",
      "\n",
      "           0       0.74      0.83      0.78        48\n",
      "           1       0.62      0.50      0.55        48\n",
      "           2       0.75      0.81      0.78        48\n",
      "           3       0.87      0.71      0.78        48\n",
      "           4       0.77      0.90      0.83        48\n",
      "\n",
      "    accuracy                           0.75       240\n",
      "   macro avg       0.75      0.75      0.74       240\n",
      "weighted avg       0.75      0.75      0.74       240\n",
      "\n"
     ]
    }
   ],
   "source": [
    "# Predição no teste\n",
    "y_test_pred = random_search.predict(X_test)\n",
    "\n",
    "plot_confusion_matrix(y_test, y_test_pred, le, maior = False, title=\"Matriz de Confusão - Teste\")\n",
    "classification_metrics(y_test, y_test_pred, le)"
   ]
  },
  {
   "cell_type": "code",
   "execution_count": null,
   "id": "3339232a-b042-4848-98f3-8c84a75deb77",
   "metadata": {},
   "outputs": [],
   "source": []
  }
 ],
 "metadata": {
  "kernelspec": {
   "display_name": "Python 3 (ipykernel)",
   "language": "python",
   "name": "python3"
  },
  "language_info": {
   "codemirror_mode": {
    "name": "ipython",
    "version": 3
   },
   "file_extension": ".py",
   "mimetype": "text/x-python",
   "name": "python",
   "nbconvert_exporter": "python",
   "pygments_lexer": "ipython3",
   "version": "3.10.12"
  }
 },
 "nbformat": 4,
 "nbformat_minor": 5
}
