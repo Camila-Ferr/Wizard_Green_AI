{
 "cells": [
  {
   "cell_type": "code",
   "execution_count": 1,
   "id": "d719672b-f334-4890-8091-d343ce5b2f9a",
   "metadata": {
    "scrolled": true
   },
   "outputs": [],
   "source": [
    "import warnings\n",
    "warnings.filterwarnings(\"ignore\")\n",
    "warnings.simplefilter(\"ignore\")"
   ]
  },
  {
   "cell_type": "code",
   "execution_count": 2,
   "id": "cc1069d0-b9f9-4863-97a4-8492204eeb94",
   "metadata": {},
   "outputs": [
    {
     "name": "stdout",
     "output_type": "stream",
     "text": [
      "Defaulting to user installation because normal site-packages is not writeable\n",
      "Requirement already satisfied: ucimlrepo in /home/camilaferreira/.local/lib/python3.10/site-packages (0.0.7)\n",
      "Requirement already satisfied: certifi>=2020.12.5 in /home/camilaferreira/.local/lib/python3.10/site-packages (from ucimlrepo) (2025.4.26)\n",
      "Requirement already satisfied: pandas>=1.0.0 in /home/camilaferreira/.local/lib/python3.10/site-packages (from ucimlrepo) (2.2.3)\n",
      "Requirement already satisfied: python-dateutil>=2.8.2 in /home/camilaferreira/.local/lib/python3.10/site-packages (from pandas>=1.0.0->ucimlrepo) (2.9.0.post0)\n",
      "Requirement already satisfied: numpy>=1.22.4 in /home/camilaferreira/.local/lib/python3.10/site-packages (from pandas>=1.0.0->ucimlrepo) (2.2.5)\n",
      "Requirement already satisfied: pytz>=2020.1 in /usr/lib/python3/dist-packages (from pandas>=1.0.0->ucimlrepo) (2022.1)\n",
      "Requirement already satisfied: tzdata>=2022.7 in /home/camilaferreira/.local/lib/python3.10/site-packages (from pandas>=1.0.0->ucimlrepo) (2025.2)\n",
      "Requirement already satisfied: six>=1.5 in /usr/lib/python3/dist-packages (from python-dateutil>=2.8.2->pandas>=1.0.0->ucimlrepo) (1.16.0)\n",
      "Defaulting to user installation because normal site-packages is not writeable\n",
      "Requirement already satisfied: torch in /home/camilaferreira/.local/lib/python3.10/site-packages (2.7.0)\n",
      "Requirement already satisfied: nvidia-cufile-cu12==1.11.1.6 in /home/camilaferreira/.local/lib/python3.10/site-packages (from torch) (1.11.1.6)\n",
      "Requirement already satisfied: nvidia-nccl-cu12==2.26.2 in /home/camilaferreira/.local/lib/python3.10/site-packages (from torch) (2.26.2)\n",
      "Requirement already satisfied: nvidia-curand-cu12==10.3.7.77 in /home/camilaferreira/.local/lib/python3.10/site-packages (from torch) (10.3.7.77)\n",
      "Requirement already satisfied: nvidia-cublas-cu12==12.6.4.1 in /home/camilaferreira/.local/lib/python3.10/site-packages (from torch) (12.6.4.1)\n",
      "Requirement already satisfied: filelock in /home/camilaferreira/.local/lib/python3.10/site-packages (from torch) (3.18.0)\n",
      "Requirement already satisfied: nvidia-cuda-runtime-cu12==12.6.77 in /home/camilaferreira/.local/lib/python3.10/site-packages (from torch) (12.6.77)\n",
      "Requirement already satisfied: networkx in /home/camilaferreira/.local/lib/python3.10/site-packages (from torch) (3.4.2)\n",
      "Requirement already satisfied: nvidia-cusparse-cu12==12.5.4.2 in /home/camilaferreira/.local/lib/python3.10/site-packages (from torch) (12.5.4.2)\n",
      "Requirement already satisfied: nvidia-cusparselt-cu12==0.6.3 in /home/camilaferreira/.local/lib/python3.10/site-packages (from torch) (0.6.3)\n",
      "Requirement already satisfied: nvidia-cufft-cu12==11.3.0.4 in /home/camilaferreira/.local/lib/python3.10/site-packages (from torch) (11.3.0.4)\n",
      "Requirement already satisfied: nvidia-nvtx-cu12==12.6.77 in /home/camilaferreira/.local/lib/python3.10/site-packages (from torch) (12.6.77)\n",
      "Requirement already satisfied: nvidia-nvjitlink-cu12==12.6.85 in /home/camilaferreira/.local/lib/python3.10/site-packages (from torch) (12.6.85)\n",
      "Requirement already satisfied: nvidia-cuda-nvrtc-cu12==12.6.77 in /home/camilaferreira/.local/lib/python3.10/site-packages (from torch) (12.6.77)\n",
      "Requirement already satisfied: nvidia-cusolver-cu12==11.7.1.2 in /home/camilaferreira/.local/lib/python3.10/site-packages (from torch) (11.7.1.2)\n",
      "Requirement already satisfied: jinja2 in /home/camilaferreira/.local/lib/python3.10/site-packages (from torch) (3.1.6)\n",
      "Requirement already satisfied: triton==3.3.0 in /home/camilaferreira/.local/lib/python3.10/site-packages (from torch) (3.3.0)\n",
      "Requirement already satisfied: nvidia-cuda-cupti-cu12==12.6.80 in /home/camilaferreira/.local/lib/python3.10/site-packages (from torch) (12.6.80)\n",
      "Requirement already satisfied: sympy>=1.13.3 in /home/camilaferreira/.local/lib/python3.10/site-packages (from torch) (1.14.0)\n",
      "Requirement already satisfied: fsspec in /home/camilaferreira/.local/lib/python3.10/site-packages (from torch) (2025.3.2)\n",
      "Requirement already satisfied: nvidia-cudnn-cu12==9.5.1.17 in /home/camilaferreira/.local/lib/python3.10/site-packages (from torch) (9.5.1.17)\n",
      "Requirement already satisfied: typing-extensions>=4.10.0 in /home/camilaferreira/.local/lib/python3.10/site-packages (from torch) (4.13.2)\n",
      "Requirement already satisfied: setuptools>=40.8.0 in /usr/lib/python3/dist-packages (from triton==3.3.0->torch) (59.6.0)\n",
      "Requirement already satisfied: mpmath<1.4,>=1.1.0 in /home/camilaferreira/.local/lib/python3.10/site-packages (from sympy>=1.13.3->torch) (1.3.0)\n",
      "Requirement already satisfied: MarkupSafe>=2.0 in /home/camilaferreira/.local/lib/python3.10/site-packages (from jinja2->torch) (3.0.2)\n",
      "Defaulting to user installation because normal site-packages is not writeable\n",
      "Requirement already satisfied: scikit-learn in /home/camilaferreira/.local/lib/python3.10/site-packages (1.6.1)\n",
      "Requirement already satisfied: threadpoolctl>=3.1.0 in /home/camilaferreira/.local/lib/python3.10/site-packages (from scikit-learn) (3.6.0)\n",
      "Requirement already satisfied: joblib>=1.2.0 in /home/camilaferreira/.local/lib/python3.10/site-packages (from scikit-learn) (1.4.2)\n",
      "Requirement already satisfied: numpy>=1.19.5 in /home/camilaferreira/.local/lib/python3.10/site-packages (from scikit-learn) (2.2.5)\n",
      "Requirement already satisfied: scipy>=1.6.0 in /home/camilaferreira/.local/lib/python3.10/site-packages (from scikit-learn) (1.15.2)\n",
      "Defaulting to user installation because normal site-packages is not writeable\n",
      "Requirement already satisfied: matplotlib in /home/camilaferreira/.local/lib/python3.10/site-packages (3.10.1)\n",
      "Requirement already satisfied: fonttools>=4.22.0 in /home/camilaferreira/.local/lib/python3.10/site-packages (from matplotlib) (4.57.0)\n",
      "Requirement already satisfied: cycler>=0.10 in /home/camilaferreira/.local/lib/python3.10/site-packages (from matplotlib) (0.12.1)\n",
      "Requirement already satisfied: kiwisolver>=1.3.1 in /home/camilaferreira/.local/lib/python3.10/site-packages (from matplotlib) (1.4.8)\n",
      "Requirement already satisfied: contourpy>=1.0.1 in /home/camilaferreira/.local/lib/python3.10/site-packages (from matplotlib) (1.3.2)\n",
      "Requirement already satisfied: packaging>=20.0 in /home/camilaferreira/.local/lib/python3.10/site-packages (from matplotlib) (25.0)\n",
      "Requirement already satisfied: python-dateutil>=2.7 in /home/camilaferreira/.local/lib/python3.10/site-packages (from matplotlib) (2.9.0.post0)\n",
      "Requirement already satisfied: pyparsing>=2.3.1 in /usr/lib/python3/dist-packages (from matplotlib) (2.4.7)\n",
      "Requirement already satisfied: pillow>=8 in /home/camilaferreira/.local/lib/python3.10/site-packages (from matplotlib) (11.2.1)\n",
      "Requirement already satisfied: numpy>=1.23 in /home/camilaferreira/.local/lib/python3.10/site-packages (from matplotlib) (2.2.5)\n",
      "Requirement already satisfied: six>=1.5 in /usr/lib/python3/dist-packages (from python-dateutil>=2.7->matplotlib) (1.16.0)\n",
      "Defaulting to user installation because normal site-packages is not writeable\n",
      "Requirement already satisfied: seaborn in /home/camilaferreira/.local/lib/python3.10/site-packages (0.13.2)\n",
      "Requirement already satisfied: matplotlib!=3.6.1,>=3.4 in /home/camilaferreira/.local/lib/python3.10/site-packages (from seaborn) (3.10.1)\n",
      "Requirement already satisfied: pandas>=1.2 in /home/camilaferreira/.local/lib/python3.10/site-packages (from seaborn) (2.2.3)\n",
      "Requirement already satisfied: numpy!=1.24.0,>=1.20 in /home/camilaferreira/.local/lib/python3.10/site-packages (from seaborn) (2.2.5)\n",
      "Requirement already satisfied: pyparsing>=2.3.1 in /usr/lib/python3/dist-packages (from matplotlib!=3.6.1,>=3.4->seaborn) (2.4.7)\n",
      "Requirement already satisfied: cycler>=0.10 in /home/camilaferreira/.local/lib/python3.10/site-packages (from matplotlib!=3.6.1,>=3.4->seaborn) (0.12.1)\n",
      "Requirement already satisfied: pillow>=8 in /home/camilaferreira/.local/lib/python3.10/site-packages (from matplotlib!=3.6.1,>=3.4->seaborn) (11.2.1)\n",
      "Requirement already satisfied: contourpy>=1.0.1 in /home/camilaferreira/.local/lib/python3.10/site-packages (from matplotlib!=3.6.1,>=3.4->seaborn) (1.3.2)\n",
      "Requirement already satisfied: packaging>=20.0 in /home/camilaferreira/.local/lib/python3.10/site-packages (from matplotlib!=3.6.1,>=3.4->seaborn) (25.0)\n",
      "Requirement already satisfied: python-dateutil>=2.7 in /home/camilaferreira/.local/lib/python3.10/site-packages (from matplotlib!=3.6.1,>=3.4->seaborn) (2.9.0.post0)\n",
      "Requirement already satisfied: kiwisolver>=1.3.1 in /home/camilaferreira/.local/lib/python3.10/site-packages (from matplotlib!=3.6.1,>=3.4->seaborn) (1.4.8)\n",
      "Requirement already satisfied: fonttools>=4.22.0 in /home/camilaferreira/.local/lib/python3.10/site-packages (from matplotlib!=3.6.1,>=3.4->seaborn) (4.57.0)\n",
      "Requirement already satisfied: tzdata>=2022.7 in /home/camilaferreira/.local/lib/python3.10/site-packages (from pandas>=1.2->seaborn) (2025.2)\n",
      "Requirement already satisfied: pytz>=2020.1 in /usr/lib/python3/dist-packages (from pandas>=1.2->seaborn) (2022.1)\n",
      "Requirement already satisfied: six>=1.5 in /usr/lib/python3/dist-packages (from python-dateutil>=2.7->matplotlib!=3.6.1,>=3.4->seaborn) (1.16.0)\n"
     ]
    }
   ],
   "source": [
    "!pip install ucimlrepo\n",
    "!pip install torch\n",
    "!pip install scikit-learn\n",
    "!pip install matplotlib\n",
    "!pip install seaborn\n",
    "\n",
    "import seaborn as sns\n",
    "import matplotlib.pyplot as plt\n",
    "from sklearn.metrics import confusion_matrix\n",
    "from ucimlrepo import fetch_ucirepo \n",
    "import pandas as pd\n",
    "import torch\n",
    "import torch.nn as nn\n",
    "import torch.optim as optim\n",
    "from sklearn.model_selection import train_test_split\n",
    "from sklearn.base import BaseEstimator, ClassifierMixin\n",
    "from sklearn.preprocessing import OneHotEncoder, StandardScaler\n",
    "from sklearn.pipeline import Pipeline\n",
    "from sklearn.model_selection import RandomizedSearchCV\n",
    "from ucimlrepo import fetch_ucirepo\n",
    "import numpy as np\n",
    "from scipy.stats import uniform, randint\n",
    "from sklearn.model_selection import StratifiedKFold\n",
    "from sklearn.metrics import classification_report, accuracy_score\n",
    "from sklearn.model_selection import train_test_split\n",
    "from sklearn.metrics import confusion_matrix, ConfusionMatrixDisplay\n",
    "import matplotlib.pyplot as plt"
   ]
  },
  {
   "cell_type": "code",
   "execution_count": 19,
   "id": "f6f6957d-cc6c-4d8c-b67d-b206c0b57fce",
   "metadata": {},
   "outputs": [],
   "source": [
    "from model_wizard import buscar_melhor_wisard\n",
    "from metricas import plot_confusion_matrix, classification_metrics"
   ]
  },
  {
   "cell_type": "markdown",
   "id": "466df281-a20a-4d3b-9f91-07188ceefb52",
   "metadata": {},
   "source": [
    "## Segundo Dataset"
   ]
  },
  {
   "cell_type": "code",
   "execution_count": 20,
   "id": "a1e49825-7777-4c5e-8b71-19946dc21d08",
   "metadata": {},
   "outputs": [
    {
     "name": "stdout",
     "output_type": "stream",
     "text": [
      "{'uci_id': 45, 'name': 'Heart Disease', 'repository_url': 'https://archive.ics.uci.edu/dataset/45/heart+disease', 'data_url': 'https://archive.ics.uci.edu/static/public/45/data.csv', 'abstract': '4 databases: Cleveland, Hungary, Switzerland, and the VA Long Beach', 'area': 'Health and Medicine', 'tasks': ['Classification'], 'characteristics': ['Multivariate'], 'num_instances': 303, 'num_features': 13, 'feature_types': ['Categorical', 'Integer', 'Real'], 'demographics': ['Age', 'Sex'], 'target_col': ['num'], 'index_col': None, 'has_missing_values': 'yes', 'missing_values_symbol': 'NaN', 'year_of_dataset_creation': 1989, 'last_updated': 'Fri Nov 03 2023', 'dataset_doi': '10.24432/C52P4X', 'creators': ['Andras Janosi', 'William Steinbrunn', 'Matthias Pfisterer', 'Robert Detrano'], 'intro_paper': {'ID': 231, 'type': 'NATIVE', 'title': 'International application of a new probability algorithm for the diagnosis of coronary artery disease.', 'authors': 'R. Detrano, A. Jánosi, W. Steinbrunn, M. Pfisterer, J. Schmid, S. Sandhu, K. Guppy, S. Lee, V. Froelicher', 'venue': 'American Journal of Cardiology', 'year': 1989, 'journal': None, 'DOI': None, 'URL': 'https://www.semanticscholar.org/paper/a7d714f8f87bfc41351eb5ae1e5472f0ebbe0574', 'sha': None, 'corpus': None, 'arxiv': None, 'mag': None, 'acl': None, 'pmid': '2756873', 'pmcid': None}, 'additional_info': {'summary': 'This database contains 76 attributes, but all published experiments refer to using a subset of 14 of them.  In particular, the Cleveland database is the only one that has been used by ML researchers to date.  The \"goal\" field refers to the presence of heart disease in the patient.  It is integer valued from 0 (no presence) to 4. Experiments with the Cleveland database have concentrated on simply attempting to distinguish presence (values 1,2,3,4) from absence (value 0).  \\n   \\nThe names and social security numbers of the patients were recently removed from the database, replaced with dummy values.\\n\\nOne file has been \"processed\", that one containing the Cleveland database.  All four unprocessed files also exist in this directory.\\n\\nTo see Test Costs (donated by Peter Turney), please see the folder \"Costs\" ', 'purpose': None, 'funded_by': None, 'instances_represent': None, 'recommended_data_splits': None, 'sensitive_data': None, 'preprocessing_description': None, 'variable_info': 'Only 14 attributes used:\\r\\n      1. #3  (age)       \\r\\n      2. #4  (sex)       \\r\\n      3. #9  (cp)        \\r\\n      4. #10 (trestbps)  \\r\\n      5. #12 (chol)      \\r\\n      6. #16 (fbs)       \\r\\n      7. #19 (restecg)   \\r\\n      8. #32 (thalach)   \\r\\n      9. #38 (exang)     \\r\\n      10. #40 (oldpeak)   \\r\\n      11. #41 (slope)     \\r\\n      12. #44 (ca)        \\r\\n      13. #51 (thal)      \\r\\n      14. #58 (num)       (the predicted attribute)\\r\\n\\r\\nComplete attribute documentation:\\r\\n      1 id: patient identification number\\r\\n      2 ccf: social security number (I replaced this with a dummy value of 0)\\r\\n      3 age: age in years\\r\\n      4 sex: sex (1 = male; 0 = female)\\r\\n      5 painloc: chest pain location (1 = substernal; 0 = otherwise)\\r\\n      6 painexer (1 = provoked by exertion; 0 = otherwise)\\r\\n      7 relrest (1 = relieved after rest; 0 = otherwise)\\r\\n      8 pncaden (sum of 5, 6, and 7)\\r\\n      9 cp: chest pain type\\r\\n        -- Value 1: typical angina\\r\\n        -- Value 2: atypical angina\\r\\n        -- Value 3: non-anginal pain\\r\\n        -- Value 4: asymptomatic\\r\\n     10 trestbps: resting blood pressure (in mm Hg on admission to the hospital)\\r\\n     11 htn\\r\\n     12 chol: serum cholestoral in mg/dl\\r\\n     13 smoke: I believe this is 1 = yes; 0 = no (is or is not a smoker)\\r\\n     14 cigs (cigarettes per day)\\r\\n     15 years (number of years as a smoker)\\r\\n     16 fbs: (fasting blood sugar > 120 mg/dl)  (1 = true; 0 = false)\\r\\n     17 dm (1 = history of diabetes; 0 = no such history)\\r\\n     18 famhist: family history of coronary artery disease (1 = yes; 0 = no)\\r\\n     19 restecg: resting electrocardiographic results\\r\\n        -- Value 0: normal\\r\\n        -- Value 1: having ST-T wave abnormality (T wave inversions and/or ST elevation or depression of > 0.05 mV)\\r\\n        -- Value 2: showing probable or definite left ventricular hypertrophy by Estes\\' criteria\\r\\n     20 ekgmo (month of exercise ECG reading)\\r\\n     21 ekgday(day of exercise ECG reading)\\r\\n     22 ekgyr (year of exercise ECG reading)\\r\\n     23 dig (digitalis used furing exercise ECG: 1 = yes; 0 = no)\\r\\n     24 prop (Beta blocker used during exercise ECG: 1 = yes; 0 = no)\\r\\n     25 nitr (nitrates used during exercise ECG: 1 = yes; 0 = no)\\r\\n     26 pro (calcium channel blocker used during exercise ECG: 1 = yes; 0 = no)\\r\\n     27 diuretic (diuretic used used during exercise ECG: 1 = yes; 0 = no)\\r\\n     28 proto: exercise protocol\\r\\n          1 = Bruce     \\r\\n          2 = Kottus\\r\\n          3 = McHenry\\r\\n          4 = fast Balke\\r\\n          5 = Balke\\r\\n          6 = Noughton \\r\\n          7 = bike 150 kpa min/min  (Not sure if \"kpa min/min\" is what was written!)\\r\\n          8 = bike 125 kpa min/min  \\r\\n          9 = bike 100 kpa min/min\\r\\n         10 = bike 75 kpa min/min\\r\\n         11 = bike 50 kpa min/min\\r\\n         12 = arm ergometer\\r\\n     29 thaldur: duration of exercise test in minutes\\r\\n     30 thaltime: time when ST measure depression was noted\\r\\n     31 met: mets achieved\\r\\n     32 thalach: maximum heart rate achieved\\r\\n     33 thalrest: resting heart rate\\r\\n     34 tpeakbps: peak exercise blood pressure (first of 2 parts)\\r\\n     35 tpeakbpd: peak exercise blood pressure (second of 2 parts)\\r\\n     36 dummy\\r\\n     37 trestbpd: resting blood pressure\\r\\n     38 exang: exercise induced angina (1 = yes; 0 = no)\\r\\n     39 xhypo: (1 = yes; 0 = no)\\r\\n     40 oldpeak = ST depression induced by exercise relative to rest\\r\\n     41 slope: the slope of the peak exercise ST segment\\r\\n        -- Value 1: upsloping\\r\\n        -- Value 2: flat\\r\\n        -- Value 3: downsloping\\r\\n     42 rldv5: height at rest\\r\\n     43 rldv5e: height at peak exercise\\r\\n     44 ca: number of major vessels (0-3) colored by flourosopy\\r\\n     45 restckm: irrelevant\\r\\n     46 exerckm: irrelevant\\r\\n     47 restef: rest raidonuclid (sp?) ejection fraction\\r\\n     48 restwm: rest wall (sp?) motion abnormality\\r\\n        0 = none\\r\\n        1 = mild or moderate\\r\\n        2 = moderate or severe\\r\\n        3 = akinesis or dyskmem (sp?)\\r\\n     49 exeref: exercise radinalid (sp?) ejection fraction\\r\\n     50 exerwm: exercise wall (sp?) motion \\r\\n     51 thal: 3 = normal; 6 = fixed defect; 7 = reversable defect\\r\\n     52 thalsev: not used\\r\\n     53 thalpul: not used\\r\\n     54 earlobe: not used\\r\\n     55 cmo: month of cardiac cath (sp?)  (perhaps \"call\")\\r\\n     56 cday: day of cardiac cath (sp?)\\r\\n     57 cyr: year of cardiac cath (sp?)\\r\\n     58 num: diagnosis of heart disease (angiographic disease status)\\r\\n        -- Value 0: < 50% diameter narrowing\\r\\n        -- Value 1: > 50% diameter narrowing\\r\\n        (in any major vessel: attributes 59 through 68 are vessels)\\r\\n     59 lmt\\r\\n     60 ladprox\\r\\n     61 laddist\\r\\n     62 diag\\r\\n     63 cxmain\\r\\n     64 ramus\\r\\n     65 om1\\r\\n     66 om2\\r\\n     67 rcaprox\\r\\n     68 rcadist\\r\\n     69 lvx1: not used\\r\\n     70 lvx2: not used\\r\\n     71 lvx3: not used\\r\\n     72 lvx4: not used\\r\\n     73 lvf: not used\\r\\n     74 cathef: not used\\r\\n     75 junk: not used\\r\\n     76 name: last name of patient  (I replaced this with the dummy string \"name\")', 'citation': None}}\n",
      "        name     role         type demographic  \\\n",
      "0        age  Feature      Integer         Age   \n",
      "1        sex  Feature  Categorical         Sex   \n",
      "2         cp  Feature  Categorical        None   \n",
      "3   trestbps  Feature      Integer        None   \n",
      "4       chol  Feature      Integer        None   \n",
      "5        fbs  Feature  Categorical        None   \n",
      "6    restecg  Feature  Categorical        None   \n",
      "7    thalach  Feature      Integer        None   \n",
      "8      exang  Feature  Categorical        None   \n",
      "9    oldpeak  Feature      Integer        None   \n",
      "10     slope  Feature  Categorical        None   \n",
      "11        ca  Feature      Integer        None   \n",
      "12      thal  Feature  Categorical        None   \n",
      "13       num   Target      Integer        None   \n",
      "\n",
      "                                          description  units missing_values  \n",
      "0                                                None  years             no  \n",
      "1                                                None   None             no  \n",
      "2                                                None   None             no  \n",
      "3   resting blood pressure (on admission to the ho...  mm Hg             no  \n",
      "4                                   serum cholestoral  mg/dl             no  \n",
      "5                     fasting blood sugar > 120 mg/dl   None             no  \n",
      "6                                                None   None             no  \n",
      "7                         maximum heart rate achieved   None             no  \n",
      "8                             exercise induced angina   None             no  \n",
      "9   ST depression induced by exercise relative to ...   None             no  \n",
      "10                                               None   None             no  \n",
      "11  number of major vessels (0-3) colored by flour...   None            yes  \n",
      "12                                               None   None            yes  \n",
      "13                         diagnosis of heart disease   None             no  \n",
      "Targets:\n",
      "[0 2 1 3 4]\n"
     ]
    }
   ],
   "source": [
    "from ucimlrepo import fetch_ucirepo \n",
    "  \n",
    "# fetch dataset \n",
    "heart_disease = fetch_ucirepo(id=45) \n",
    "  \n",
    "# data (as pandas dataframes) \n",
    "X = heart_disease.data.features \n",
    "y = heart_disease.data.targets \n",
    "  \n",
    "# metadata \n",
    "print(heart_disease.metadata) \n",
    "  \n",
    "# variable information \n",
    "print(heart_disease.variables) \n",
    "\n",
    "print (\"Targets:\")\n",
    "print(y[y.columns[0]].unique())"
   ]
  },
  {
   "cell_type": "markdown",
   "id": "84438c5e-0a2e-4b53-ac45-9a303b356e23",
   "metadata": {},
   "source": [
    "### Visualização de datasets"
   ]
  },
  {
   "cell_type": "code",
   "execution_count": 21,
   "id": "5909e1d1-22cb-46a0-bfbb-def786ab2d87",
   "metadata": {},
   "outputs": [
    {
     "name": "stdout",
     "output_type": "stream",
     "text": [
      "Features:\n",
      "   age  sex  cp  trestbps  chol  fbs  restecg  thalach  exang  oldpeak  slope  \\\n",
      "0   63    1   1       145   233    1        2      150      0      2.3      3   \n",
      "1   67    1   4       160   286    0        2      108      1      1.5      2   \n",
      "2   67    1   4       120   229    0        2      129      1      2.6      2   \n",
      "3   37    1   3       130   250    0        0      187      0      3.5      3   \n",
      "4   41    0   2       130   204    0        2      172      0      1.4      1   \n",
      "\n",
      "    ca  thal  \n",
      "0  0.0   6.0  \n",
      "1  3.0   3.0  \n",
      "2  2.0   7.0  \n",
      "3  0.0   3.0  \n",
      "4  0.0   3.0  \n",
      "\n",
      "Targets:\n",
      "     num\n",
      "0      0\n",
      "1      2\n",
      "2      1\n",
      "3      0\n",
      "4      0\n",
      "..   ...\n",
      "298    1\n",
      "299    2\n",
      "300    3\n",
      "301    1\n",
      "302    0\n",
      "\n",
      "[303 rows x 1 columns]\n",
      "\n",
      "Colunas categóricas: []\n",
      "Colunas numéricas: ['age', 'sex', 'cp', 'trestbps', 'chol', 'fbs', 'restecg', 'thalach', 'exang', 'oldpeak', 'slope', 'ca', 'thal']\n"
     ]
    }
   ],
   "source": [
    "print(\"Features:\")\n",
    "print(X.head())\n",
    "print(\"\\nTargets:\")\n",
    "print(y)\n",
    "\n",
    "# Identificar colunas categóricas e numéricas\n",
    "categorical_cols = X.select_dtypes(include=['object']).columns.tolist()\n",
    "numeric_cols = X.select_dtypes(include=['number']).columns.tolist()\n",
    "\n",
    "print(\"\\nColunas categóricas:\", categorical_cols)\n",
    "print(\"Colunas numéricas:\", numeric_cols)"
   ]
  },
  {
   "cell_type": "markdown",
   "id": "265d129f-9e1b-4ba0-98af-6f5132ee4fc1",
   "metadata": {},
   "source": [
    "### Tratamento de Dados"
   ]
  },
  {
   "cell_type": "code",
   "execution_count": 22,
   "id": "d1accc03-9223-4200-b6be-cbd4ac728919",
   "metadata": {},
   "outputs": [
    {
     "name": "stdout",
     "output_type": "stream",
     "text": [
      "y é unidimensional.\n",
      "Dados de entrada (X) processados:\n",
      "        age       sex        cp  trestbps      chol       fbs   restecg  \\\n",
      "0  0.948726  0.686202 -2.251775  0.757525 -0.264900  2.394438  1.016684   \n",
      "1  1.392002  0.686202  0.877985  1.611220  0.760415 -0.417635  1.016684   \n",
      "2  1.392002  0.686202  0.877985 -0.665300 -0.342283 -0.417635  1.016684   \n",
      "3 -1.932564  0.686202 -0.165268 -0.096170  0.063974 -0.417635 -0.996749   \n",
      "4 -1.489288 -1.457296 -1.208521 -0.096170 -0.825922 -0.417635  1.016684   \n",
      "\n",
      "    thalach     exang   oldpeak     slope        ca      thal  \n",
      "0  0.017197 -0.696631  1.087338  2.274579 -0.718306  0.653650  \n",
      "1 -1.821905  1.435481  0.397182  0.649113  2.487269 -0.895552  \n",
      "2 -0.902354  1.435481  1.346147  0.649113  1.418744  1.170051  \n",
      "3  1.637359 -0.696631  2.122573  2.274579 -0.718306 -0.895552  \n",
      "4  0.980537 -0.696631  0.310912 -0.976352 -0.718306 -0.895552  \n",
      "Target (y) original ajustado:\n",
      "[0 1 2 3 4]\n",
      "0: 164\n",
      "1: 55\n",
      "2: 36\n",
      "3: 35\n",
      "4: 13\n"
     ]
    }
   ],
   "source": [
    "# OneHotEncoder para as variáveis categóricas\n",
    "ohe = OneHotEncoder(sparse_output=False)\n",
    "X_categorical_encoded = ohe.fit_transform(X[categorical_cols])\n",
    "\n",
    "# Nomes das colunas para as variáveis categóricas\n",
    "categorical_column_names = ohe.get_feature_names_out(categorical_cols)\n",
    "\n",
    "# Normalizar atributos numéricos\n",
    "scaler = StandardScaler()\n",
    "X_numeric_scaled = scaler.fit_transform(X[numeric_cols])\n",
    "\n",
    "# Concatenar os dados (numéricos e categóricos)\n",
    "X_processed = np.hstack((X_numeric_scaled, X_categorical_encoded))\n",
    "\n",
    "# Criar um DataFrame com os nomes das colunas\n",
    "X_processed_df = pd.DataFrame(X_processed, columns=np.concatenate([numeric_cols, categorical_column_names]))\n",
    "\n",
    "# Garantir que y seja 1D\n",
    "y = heart_disease.data.targets.squeeze()\n",
    "\n",
    "# Exibir verificação\n",
    "if len(y.shape) > 1:\n",
    "    print(\"y ainda é multidimensional. Forma de y:\", y.shape)\n",
    "else:\n",
    "    print(\"y é unidimensional.\")\n",
    "\n",
    "# Convertendo y para uma série do pandas para facilitar a visualização\n",
    "y_series = pd.Series(y)\n",
    "\n",
    "# Exibindo os dados processados e o target\n",
    "print(\"Dados de entrada (X) processados:\")\n",
    "print(X_processed_df.head())\n",
    "\n",
    "print(\"Target (y) original ajustado:\")\n",
    "print(np.unique(y))\n",
    "classes, counts = np.unique(y, return_counts=True)\n",
    "for label, count in zip(classes, counts):\n",
    "    print(f\"{label}: {count}\")\n"
   ]
  },
  {
   "cell_type": "code",
   "execution_count": 16,
   "id": "aa570f1e-cfa1-4047-afc4-b989ea0ebdca",
   "metadata": {},
   "outputs": [
    {
     "name": "stdout",
     "output_type": "stream",
     "text": [
      "Tamanho do conjunto de treino: (212, 13)\n",
      "Tamanho do conjunto de teste: (91, 13)\n",
      "Tamanho dos rótulos de treino: (212,)\n",
      "Tamanho dos rótulos de teste: (91,)\n",
      "\n",
      "Exemplo de X_train (primeiras 5 linhas):\n",
      "[[ 0.50545103  0.68620244 -2.25177456  1.61121989  0.50892271 -0.41763453\n",
      "   1.01668424 -1.07750662 -0.69663055 -0.89686172 -0.97635214 -0.71113139\n",
      "  -0.89023814]\n",
      " [-0.71355642  0.68620244 -0.16526786 -0.43764774  0.16070235  2.394438\n",
      "  -0.99674925  1.11190128 -0.69663055 -0.89686172 -0.97635214  1.43287667\n",
      "  -0.89023814]\n",
      " [ 0.50545103  0.68620244  0.87798549 -1.2344296  -0.14882685 -0.41763453\n",
      "   1.01668424 -0.33310794  1.43548113  0.13837295  0.64911323  0.36087264\n",
      "   1.17675157]\n",
      " [ 1.61363963 -1.4572959  -2.25177456  0.47296009 -0.14882685 -0.41763453\n",
      "  -0.99674925  0.06098549 -0.69663055  0.65599028 -0.97635214  1.43287667\n",
      "  -0.89023814]\n",
      " [ 0.28381332  0.68620244 -0.16526786  1.04208999 -2.33487687  2.394438\n",
      "  -0.99674925  1.02432497 -0.69663055 -0.7243226  -0.97635214  0.36087264\n",
      "   1.17675157]]\n",
      "\n",
      "Exemplo de y_train (primeiros 5 rótulos):\n",
      "[1 0 2 0 0]\n",
      "\n",
      "Exemplo de X_test (primeiras 5 linhas):\n",
      "[[ 1.05954533 -1.4572959   0.87798549  2.74947968  1.51489263 -0.41763453\n",
      "  -0.99674925  0.19234996  1.43548113 -0.89686172 -0.97635214 -0.71113139\n",
      "  -0.89023814]\n",
      " [-1.15683185  0.68620244 -0.16526786 -0.0961698  -0.2649003  -0.41763453\n",
      "  -0.99674925  1.28705392  1.43548113 -0.55178349 -0.97635214 -0.71113139\n",
      "  -0.89023814]\n",
      " [-0.38109984 -1.4572959   0.87798549 -0.0961698   1.12798112 -0.41763453\n",
      "  -0.99674925 -0.33310794  1.43548113  0.13837295  0.64911323 -0.71113139\n",
      "   1.17675157]\n",
      " [ 0.39463218  0.68620244  0.87798549 -1.80355949 -0.24555473 -0.41763453\n",
      "  -0.99674925  0.27992628 -0.69663055 -0.81059216 -0.97635214  0.36087264\n",
      "   1.17675157]\n",
      " [ 0.39463218 -1.4572959   0.87798549 -1.80355949  0.02528333 -0.41763453\n",
      "   1.01668424 -1.2088711  -0.69663055 -0.03416616  0.64911323 -0.71113139\n",
      "  -0.89023814]]\n",
      "\n",
      "Exemplo de y_test (primeiros 5 rótulos):\n",
      "[0 0 2 2 0]\n"
     ]
    }
   ],
   "source": [
    "# Dividir em treino e teste\n",
    "X_train, X_test, y_train, y_test = train_test_split(\n",
    "    X_processed, y_encoded, test_size=0.3, random_state=42, stratify=y_encoded\n",
    ")\n",
    "# Exibe as dimensões dos conjuntos de treino e teste\n",
    "print(\"Tamanho do conjunto de treino:\", X_train.shape)\n",
    "print(\"Tamanho do conjunto de teste:\", X_test.shape)\n",
    "print(\"Tamanho dos rótulos de treino:\", y_train.shape)\n",
    "print(\"Tamanho dos rótulos de teste:\", y_test.shape)\n",
    "\n",
    "print(\"\\nExemplo de X_train (primeiras 5 linhas):\")\n",
    "print(X_train[:5])  # Exibe as 5 primeiras linhas de X_train\n",
    "\n",
    "print(\"\\nExemplo de y_train (primeiros 5 rótulos):\")\n",
    "print(y_train[:5])  # Exibe os 5 primeiros rótulos de y_train\n",
    "\n",
    "print(\"\\nExemplo de X_test (primeiras 5 linhas):\")\n",
    "print(X_test[:5])  # Exibe as 5 primeiras linhas de X_test\n",
    "\n",
    "print(\"\\nExemplo de y_test (primeiros 5 rótulos):\")\n",
    "print(y_test[:5])  # Exibe os 5 primeiros rótulos de y_test"
   ]
  },
  {
   "cell_type": "markdown",
   "id": "a0630283-88e2-44cb-b40e-8d89d6069977",
   "metadata": {},
   "source": [
    "#### Métricas"
   ]
  },
  {
   "cell_type": "code",
   "execution_count": 17,
   "id": "9b87da2c-b6a5-414a-a5aa-34e63787f467",
   "metadata": {},
   "outputs": [
    {
     "name": "stdout",
     "output_type": "stream",
     "text": [
      "Fitting 3 folds for each of 8 candidates, totalling 24 fits\n",
      "Treinando WiSARD com n_classes=5, entry_size=13, tuple_size=8, bleaching=True\n",
      "Melhores parâmetros encontrados: {'wisard__tuple_size': 8, 'wisard__bleaching': True}\n",
      "Melhor acurácia: 0.5328638497652581\n"
     ]
    },
    {
     "data": {
      "image/png": "[encoded data removed]",
      "text/plain": [
       "<Figure size 640x480 with 2 Axes>"
      ]
     },
     "metadata": {},
     "output_type": "display_data"
    },
    {
     "name": "stdout",
     "output_type": "stream",
     "text": [
      "              precision    recall  f1-score   support\n",
      "\n",
      "           0       0.79      1.00      0.88       115\n",
      "           1       0.85      0.61      0.71        38\n",
      "           2       1.00      0.60      0.75        25\n",
      "           3       1.00      0.64      0.78        25\n",
      "           4       1.00      0.89      0.94         9\n",
      "\n",
      "    accuracy                           0.83       212\n",
      "   macro avg       0.93      0.75      0.81       212\n",
      "weighted avg       0.86      0.83      0.83       212\n",
      "\n"
     ]
    }
   ],
   "source": [
    "\n",
    "best_model, best_params, best_score, random_search = buscar_melhor_wisard(X_train, y_train)\n",
    "\n",
    "print(\"Melhores parâmetros encontrados:\", best_params)\n",
    "print(\"Melhor acurácia:\", best_score)\n",
    "\n",
    "# Faz predição codificada\n",
    "y_train_pred_encoded = random_search.predict(X_train)\n",
    "\n",
    "# Plota matriz de confusão com labels na vertical\n",
    "plot_confusion_matrix(y_train, y_train_pred_encoded, le, title=\"Matriz de Confusão - Treinamento\")\n",
    "\n",
    "# Imprime relatório de classificação com rótulos originais\n",
    "classification_metrics(y_train, y_train_pred_encoded, le)"
   ]
  },
  {
   "cell_type": "markdown",
   "id": "b81d3145-a0cc-4229-92fe-77ca3ad7dbc9",
   "metadata": {},
   "source": [
    "### Predição"
   ]
  },
  {
   "cell_type": "code",
   "execution_count": 18,
   "id": "ba9462bc-7bb7-4f36-9f86-db8fdd4621fc",
   "metadata": {},
   "outputs": [
    {
     "data": {
      "image/png": "[encoded data removed]",
      "text/plain": [
       "<Figure size 640x480 with 2 Axes>"
      ]
     },
     "metadata": {},
     "output_type": "display_data"
    },
    {
     "name": "stdout",
     "output_type": "stream",
     "text": [
      "              precision    recall  f1-score   support\n",
      "\n",
      "           0       0.62      0.92      0.74        49\n",
      "           1       0.13      0.12      0.12        17\n",
      "           2       0.00      0.00      0.00        11\n",
      "           3       0.25      0.10      0.14        10\n",
      "           4       0.00      0.00      0.00         4\n",
      "\n",
      "    accuracy                           0.53        91\n",
      "   macro avg       0.20      0.23      0.20        91\n",
      "weighted avg       0.39      0.53      0.44        91\n",
      "\n",
      "Treinando WiSARD com n_classes=5, entry_size=13, tuple_size=10, bleaching=True\n",
      "[CV] END ......wisard__bleaching=True, wisard__tuple_size=10; total time=   0.0s\n",
      "Treinando WiSARD com n_classes=5, entry_size=13, tuple_size=9, bleaching=False\n",
      "[CV] END ......wisard__bleaching=False, wisard__tuple_size=9; total time=   0.0s\n",
      "Treinando WiSARD com n_classes=5, entry_size=13, tuple_size=9, bleaching=False\n",
      "[CV] END ......wisard__bleaching=False, wisard__tuple_size=9; total time=   0.0s\n",
      "Treinando WiSARD com n_classes=5, entry_size=13, tuple_size=10, bleaching=False\n",
      "[CV] END .....wisard__bleaching=False, wisard__tuple_size=10; total time=   0.0s\n",
      "Treinando WiSARD com n_classes=5, entry_size=13, tuple_size=10, bleaching=False\n",
      "[CV] END .....wisard__bleaching=False, wisard__tuple_size=10; total time=   0.0s\n",
      "Treinando WiSARD com n_classes=5, entry_size=13, tuple_size=10, bleaching=False\n",
      "[CV] END .....wisard__bleaching=False, wisard__tuple_size=10; total time=   0.0s\n",
      "Treinando WiSARD com n_classes=5, entry_size=13, tuple_size=11, bleaching=False\n",
      "[CV] END .....wisard__bleaching=False, wisard__tuple_size=11; total time=   0.0s\n",
      "Treinando WiSARD com n_classes=5, entry_size=13, tuple_size=11, bleaching=False\n",
      "[CV] END .....wisard__bleaching=False, wisard__tuple_size=11; total time=   0.0s\n",
      "Treinando WiSARD com n_classes=5, entry_size=13, tuple_size=9, bleaching=True\n",
      "[CV] END .......wisard__bleaching=True, wisard__tuple_size=9; total time=   0.0s\n",
      "Treinando WiSARD com n_classes=5, entry_size=13, tuple_size=8, bleaching=True\n",
      "[CV] END .......wisard__bleaching=True, wisard__tuple_size=8; total time=   0.0s\n",
      "Treinando WiSARD com n_classes=5, entry_size=13, tuple_size=10, bleaching=True\n",
      "[CV] END ......wisard__bleaching=True, wisard__tuple_size=10; total time=   0.0s\n",
      "Treinando WiSARD com n_classes=5, entry_size=13, tuple_size=9, bleaching=True\n",
      "[CV] END .......wisard__bleaching=True, wisard__tuple_size=9; total time=   0.0s\n",
      "Treinando WiSARD com n_classes=5, entry_size=13, tuple_size=8, bleaching=True\n",
      "[CV] END .......wisard__bleaching=True, wisard__tuple_size=8; total time=   0.0s\n",
      "Treinando WiSARD com n_classes=5, entry_size=13, tuple_size=10, bleaching=True\n",
      "[CV] END ......wisard__bleaching=True, wisard__tuple_size=10; total time=   0.0s\n",
      "Treinando WiSARD com n_classes=5, entry_size=13, tuple_size=11, bleaching=True\n",
      "[CV] END ......wisard__bleaching=True, wisard__tuple_size=11; total time=   0.0s\n",
      "Treinando WiSARD com n_classes=5, entry_size=13, tuple_size=11, bleaching=True\n",
      "[CV] END ......wisard__bleaching=True, wisard__tuple_size=11; total time=   0.0s\n",
      "Treinando WiSARD com n_classes=5, entry_size=13, tuple_size=11, bleaching=True\n",
      "[CV] END ......wisard__bleaching=True, wisard__tuple_size=11; total time=   0.0s\n",
      "Treinando WiSARD com n_classes=5, entry_size=13, tuple_size=8, bleaching=True\n",
      "[CV] END .......wisard__bleaching=True, wisard__tuple_size=8; total time=   0.0s\n",
      "Treinando WiSARD com n_classes=5, entry_size=13, tuple_size=9, bleaching=False\n",
      "[CV] END ......wisard__bleaching=False, wisard__tuple_size=9; total time=   0.0s\n",
      "Treinando WiSARD com n_classes=5, entry_size=13, tuple_size=9, bleaching=True\n",
      "[CV] END .......wisard__bleaching=True, wisard__tuple_size=9; total time=   0.0s\n",
      "Treinando WiSARD com n_classes=5, entry_size=13, tuple_size=11, bleaching=False\n",
      "[CV] END .....wisard__bleaching=False, wisard__tuple_size=11; total time=   0.0s\n",
      "Treinando WiSARD com n_classes=5, entry_size=13, tuple_size=8, bleaching=False\n",
      "[CV] END ......wisard__bleaching=False, wisard__tuple_size=8; total time=   0.0s\n",
      "Treinando WiSARD com n_classes=5, entry_size=13, tuple_size=8, bleaching=False\n",
      "[CV] END ......wisard__bleaching=False, wisard__tuple_size=8; total time=   0.0s\n",
      "Treinando WiSARD com n_classes=5, entry_size=13, tuple_size=8, bleaching=False\n",
      "[CV] END ......wisard__bleaching=False, wisard__tuple_size=8; total time=   0.0s\n"
     ]
    }
   ],
   "source": [
    "# Predição no teste\n",
    "y_test_pred = random_search.predict(X_test)\n",
    "\n",
    "plot_confusion_matrix(y_test, y_test_pred, le, title=\"Matriz de Confusão - Teste\")\n",
    "classification_metrics(y_test, y_test_pred, le)"
   ]
  },
  {
   "cell_type": "code",
   "execution_count": null,
   "id": "e6ad7212-c27d-4d34-9d16-3f86665c52fe",
   "metadata": {},
   "outputs": [],
   "source": []
  }
 ],
 "metadata": {
  "kernelspec": {
   "display_name": "Python 3 (ipykernel)",
   "language": "python",
   "name": "python3"
  },
  "language_info": {
   "codemirror_mode": {
    "name": "ipython",
    "version": 3
   },
   "file_extension": ".py",
   "mimetype": "text/x-python",
   "name": "python",
   "nbconvert_exporter": "python",
   "pygments_lexer": "ipython3",
   "version": "3.10.12"
  }
 },
 "nbformat": 4,
 "nbformat_minor": 5
}
